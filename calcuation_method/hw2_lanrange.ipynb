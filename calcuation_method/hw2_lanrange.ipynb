{
 "cells": [
  {
   "cell_type": "code",
   "execution_count": null,
   "metadata": {},
   "outputs": [
    {
     "name": "stdout",
     "output_type": "stream",
     "text": [
      "均匀节点：\n",
      "节点个数：6，近似最大模误差：0.433\n",
      "节点个数：11，近似最大模误差：1.916\n",
      "节点个数：21，近似最大模误差：59.771\n",
      "节点个数：41，近似最大模误差：103913.442\n",
      "\n",
      "切比雪夫节点：\n",
      "节点个数：6，近似最大模误差：0.556\n",
      "节点个数：11，近似最大模误差：0.109\n",
      "节点个数：21，近似最大模误差：0.015331\n",
      "节点个数：41，近似最大模误差：0.0002894555371\n"
     ]
    }
   ],
   "source": [
    "import numpy as np\n",
    "\n",
    "def f(x):\n",
    "    return 1 / (1 + x**2)\n",
    "\n",
    "def uniform_nodes(n):\n",
    "    \"\"\"生成均匀节点\"\"\"\n",
    "    return np.linspace(-5, 5, n+1)\n",
    "\n",
    "def chebyshev_nodes(n):\n",
    "    \"\"\"生成切比雪夫节点\"\"\"\n",
    "    return -5*np.cos((2 * np.arange(n+1) + 1) * np.pi / (2*(n+1)))\n",
    "\n",
    "def lagrange_interp(x, x_nodes, y_nodes):\n",
    "    \"\"\"Lagrange插值\"\"\"\n",
    "    n = len(x_nodes) - 1\n",
    "    basis = np.ones((n+1, len(x)))\n",
    "    for i in range(n+1):\n",
    "        for j in range(n+1):\n",
    "            if i != j:\n",
    "                basis[i] *= (x - x_nodes[j]) / (x_nodes[i] - x_nodes[j])\n",
    "    return np.dot(y_nodes, basis)\n",
    "\n",
    "# 参数设置\n",
    "n_values = [5, 10, 20, 40]\n",
    "test_points = np.linspace(-5, 5, 500)\n",
    "f_true = f(test_points)\n",
    "\n",
    "# 计算均匀节点误差\n",
    "print(\"均匀节点：\")\n",
    "for n in n_values:\n",
    "    x_nodes = uniform_nodes(n)\n",
    "    y_nodes = f(x_nodes)\n",
    "    interp_values = lagrange_interp(test_points, x_nodes, y_nodes)\n",
    "    error = np.max(np.abs(interp_values - f_true))\n",
    "    print(f\"节点个数：{n+1}，近似最大模误差：{error:.3f}\")\n",
    "\n",
    "# 计算切比雪夫节点误差\n",
    "print(\"\\n切比雪夫节点：\")\n",
    "for n in n_values:\n",
    "    x_nodes = chebyshev_nodes(n)\n",
    "    y_nodes = f(x_nodes)\n",
    "    interp_values = lagrange_interp(test_points, x_nodes, y_nodes)\n",
    "    error = np.max(np.abs(interp_values - f_true))\n",
    "  \n",
    "    # 调整输出精度\n",
    "    if n == 5:\n",
    "        print(f\"节点个数：{n+1}，近似最大模误差：{error:.3f}\")\n",
    "    elif n == 10:\n",
    "        print(f\"节点个数：{n+1}，近似最大模误差：{error:.3f}\")\n",
    "    elif n == 20:\n",
    "        print(f\"节点个数：{n+1}，近似最大模误差：{error:.6f}\")\n",
    "    elif n == 40:\n",
    "        print(f\"节点个数：{n+1}，近似最大模误差：{error:.13f}\")"
   ]
  },
  {
   "cell_type": "markdown",
   "metadata": {},
   "source": [
    "1. linspace() 创建均匀数组\n",
    "2. abs() 计算绝对值\n",
    "3. zeros_like/ones...  生成类似的全0/1的数组"
   ]
  }
 ],
 "metadata": {
  "kernelspec": {
   "display_name": "Python 3",
   "language": "python",
   "name": "python3"
  },
  "language_info": {
   "codemirror_mode": {
    "name": "ipython",
    "version": 3
   },
   "file_extension": ".py",
   "mimetype": "text/x-python",
   "name": "python",
   "nbconvert_exporter": "python",
   "pygments_lexer": "ipython3",
   "version": "3.10.10"
  }
 },
 "nbformat": 4,
 "nbformat_minor": 2
}
