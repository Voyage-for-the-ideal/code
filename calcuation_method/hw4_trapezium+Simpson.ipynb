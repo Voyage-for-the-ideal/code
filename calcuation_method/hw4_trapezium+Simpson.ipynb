{
 "cells": [
  {
   "cell_type": "code",
   "execution_count": null,
   "id": "09939825",
   "metadata": {},
   "outputs": [],
   "source": [
    "import math\n",
    "def f(x):\n",
    "    return math.sin(x)\n",
    "def trapezium(N):\n",
    "    result=0.5*f(1)+0.5*f(5)\n",
    "    h=4/(N-1)\n",
    "    for i in range(1,N+1):\n",
    "        result=result+f(1+i*h)\n",
    "    result=h*result\n",
    "    return result\n",
    "def Simpson(N):\n",
    "    m=int((N-1)/2)\n",
    "    h=4/(N-1)\n",
    "    result=f(5)-f(1)\n",
    "    for i in range(0,m):\n",
    "        result=result+4*f(1+h*(2*i+1))+2*f(1+h*2*i)\n",
    "    result=result*h/3\n",
    "    return result\n"
   ]
  },
  {
   "cell_type": "code",
   "execution_count": null,
   "id": "0eab2d34",
   "metadata": {},
   "outputs": [
    {
     "name": "stdout",
     "output_type": "stream",
     "text": [
      "-0.43908862562420636\n",
      "0.18244850521929284\n",
      "0.2980178282561514\n",
      "-1.0034514782120645\n",
      "0.7468113578071509\n",
      "0.2582554841118356\n",
      "-0.5809612601151182\n",
      "0.32432113971020465\n",
      "0.25673195511886254\n",
      "-0.1991626333482685\n",
      "0.057477487056645016\n",
      "0.25664573156500303\n",
      "0.02193071706529942\n",
      "0.27857083747021294\n",
      "0.256640469143908\n",
      "0.13791539117595483\n",
      "0.3945555115808683\n",
      "0.25664014217068826\n",
      "0.19697806707287976\n",
      "0.45361818747779326\n",
      "0.2566401217647997\n",
      "0.22673959505487262\n",
      "0.48337971545978614\n",
      "0.25664012048989754\n",
      "0.24167316508671205\n",
      "0.49831328549162557\n",
      "0.25664012041022544\n",
      "0.24915255508281625\n",
      "0.5057926754877298\n",
      "0.25664012040524675\n",
      "0.25289532653025315\n",
      "0.5095354469351667\n",
      "0.2566401204049301\n",
      "0.25476747200286853\n",
      "0.5114075924077821\n",
      "0.2566401204049176\n"
     ]
    }
   ],
   "source": [
    "import numpy as np\n",
    "f_true=math.cos(5)-math.cos(1)\n",
    "for i in range(1,13):\n",
    "    n=2**i+1\n",
    "    result=trapezium(n)\n",
    "    print(result)\n",
    "    print(np.abs(result-f_true))\n",
    "    \n",
    "\n",
    "\n",
    "    print(Simpson(n))\n"
   ]
  }
 ],
 "metadata": {
  "kernelspec": {
   "display_name": "Python 3",
   "language": "python",
   "name": "python3"
  },
  "language_info": {
   "codemirror_mode": {
    "name": "ipython",
    "version": 3
   },
   "file_extension": ".py",
   "mimetype": "text/x-python",
   "name": "python",
   "nbconvert_exporter": "python",
   "pygments_lexer": "ipython3",
   "version": "3.9.12"
  }
 },
 "nbformat": 4,
 "nbformat_minor": 5
}
