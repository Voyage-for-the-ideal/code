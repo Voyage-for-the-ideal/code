{
 "cells": [
  {
   "cell_type": "code",
   "execution_count": null,
   "metadata": {},
   "outputs": [],
   "source": [
    "import math\n",
    "\n",
    "def f(x,y):\n",
    "    return -(x**2)*(y**2)\n",
    "\n",
    "def real_solution(x):\n",
    "    return (3.0)/(1+x**3)\n"
   ]
  },
  {
   "cell_type": "code",
   "execution_count": null,
   "metadata": {},
   "outputs": [],
   "source": [
    "#四阶Runge-Kutta公式\n",
    "def RK4(f, x0, y0, h, x_end):\n",
    "    #返回x0到x0+h*n的解\n",
    "    x = x0\n",
    "    y = y0\n",
    "    while (x_end-x)>h*1e-10:#不直接写x_end>x是为了避免二进制存储的误差\n",
    "        k1 = h * f(x, y)\n",
    "        k2 = h * f(x + h / 2, y + k1 / 2)\n",
    "        k3 = h * f(x + h / 2, y + k2 / 2)\n",
    "        k4 = h * f(x + h, y + k3)\n",
    "        y = y + (k1 + 2 * k2 + 2 * k3 + k4) / 6\n",
    "        x = x + h\n",
    "    return y\n"
   ]
  },
  {
   "cell_type": "code",
   "execution_count": 30,
   "metadata": {},
   "outputs": [],
   "source": [
    "#四阶隐式Adams公式\n",
    "\n",
    "def adams_estimator(f, x, y, h):\n",
    "    #预估步\n",
    "    return y[-1] + (h/24)*(55*f(x[-1], y[-1]) - 59*f(x[-2], y[-2]) + 37*f(x[-3], y[-3]) - 9*f(x[-4], y[-4]))\n",
    "\n",
    "def adams_corrector(f, x, y, h,y_est):\n",
    "    #校正步\n",
    "    return y[-1] + (h/24)*(9*f(x[-1] + h, y_est) + 19*f(x[-1], y[-1]) - 5*f(x[-2], y[-2]) + f(x[-3], y[-3]))\n",
    "\n",
    "def adams(f,x0,y0,h,x_end):\n",
    "    x=[x0]\n",
    "    y=[y0]\n",
    "\n",
    "    #使用RK4计算前三个点\n",
    "    for _ in range(3):\n",
    "        y_next=RK4(f,x[-1],y[-1],h,x[-1]+h)\n",
    "        x.append(x[-1]+h)\n",
    "        y.append(y_next)\n",
    "    \n",
    "    #使用预估-校正法计算后续点\n",
    "    while (x_end-x[-1])>h*1e-10:#循环到x=x_end-h时停止，此时x[-1]=x_end，y[-1]为最终解\n",
    "        y_est=adams_estimator(f,x,y,h)\n",
    "        y_next=adams_corrector(f,x,y,h,y_est)\n",
    "        x.append(x[-1]+h)\n",
    "        y.append(y_next)\n",
    "    return y[-1]\n"
   ]
  },
  {
   "cell_type": "code",
   "execution_count": 31,
   "metadata": {},
   "outputs": [
    {
     "name": "stdout",
     "output_type": "stream",
     "text": [
      "四阶Runge-Kutta公式的误差和误差阶：\n",
      "h=0.1\terr=0.000017800000795\t无法计算误差阶\n",
      "h=0.05\terr=0.000001042240726\tok=4.094116865509943\n",
      "h=0.025\terr=0.000000062907182\tok=4.050319980274413\n",
      "h=0.0125\terr=0.000000003861853\tok=4.025859525963953\n",
      "四阶隐式Adams公式的误差和误差阶：\n",
      "h=0.1\terr=0.000081825365899\t无法计算误差阶\n",
      "h=0.05\terr=0.000004033954575\tok=4.342281405162534\n",
      "h=0.025\terr=0.000000195021844\tok=4.370487209252873\n",
      "h=0.0125\terr=0.000000010321201\tok=4.239952915562277\n"
     ]
    }
   ],
   "source": [
    "x0=0.0\n",
    "y0=3.0\n",
    "x_end=1.5\n",
    "exact_y=real_solution(x_end)\n",
    "\n",
    "result=[]\n",
    "for l in range(4):\n",
    "    h=0.1/2**l\n",
    "    rk4_y=RK4(f,x0,y0,h,x_end)\n",
    "    rk4_error=abs(rk4_y-exact_y)\n",
    "    adams_y=adams(f,x0,y0,h,x_end)\n",
    "    adams_error=abs(adams_y-exact_y)\n",
    "    result.append((h, rk4_error,adams_error))\n",
    "print(\"四阶Runge-Kutta公式的误差和误差阶：\")\n",
    "print(\"h=0.1\",end=\"\\t\")\n",
    "print(f\"err={result[0][1]:.15f}\",end=\"\\t\")\n",
    "print(\"无法计算误差阶\")\n",
    "for i in range(1,4):\n",
    "    print(f\"h={result[i][0]}\",end=\"\\t\")\n",
    "    print(f\"err={result[i][1]:.15f}\",end=\"\\t\")\n",
    "    print(f\"ok={math.log(result[i-1][1]/result[i][1],2):.15f}\")\n",
    "print(\"四阶隐式Adams公式的误差和误差阶：\")\n",
    "print(\"h=0.1\",end=\"\\t\")\n",
    "print(f\"err={result[0][2]:.15f}\",end=\"\\t\")\n",
    "print(\"无法计算误差阶\")\n",
    "for i in range(1,4):\n",
    "    print(f\"h={result[i][0]}\",end=\"\\t\")\n",
    "    print(f\"err={result[i][2]:.15f}\",end=\"\\t\")\n",
    "    print(f\"ok={math.log(result[i-1][2]/result[i][2],2):.15f}\")"
   ]
  }
 ],
 "metadata": {
  "kernelspec": {
   "display_name": "Python 3",
   "language": "python",
   "name": "python3"
  },
  "language_info": {
   "codemirror_mode": {
    "name": "ipython",
    "version": 3
   },
   "file_extension": ".py",
   "mimetype": "text/x-python",
   "name": "python",
   "nbconvert_exporter": "python",
   "pygments_lexer": "ipython3",
   "version": "3.10.10"
  }
 },
 "nbformat": 4,
 "nbformat_minor": 2
}
