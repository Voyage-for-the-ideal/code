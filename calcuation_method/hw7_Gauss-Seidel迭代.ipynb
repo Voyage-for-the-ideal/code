{
 "cells": [
  {
   "cell_type": "code",
   "execution_count": 2,
   "id": "906b2eb0",
   "metadata": {},
   "outputs": [],
   "source": [
    "#gauss_seidel迭代法\n",
    "def Gauss_Seidel(A,b,epsilon):\n",
    "    n=len(A)\n",
    "    X = [1.0] * n  # 初始迭代向量\n",
    "    times = 0\n",
    "    \n",
    "    while True:\n",
    "        X_prev = X.copy()  # 保存前一次的迭代结果用于误差计算\n",
    "        for i in range(n):\n",
    "            sum_lower = sum(A[i][j] * X_prev[j] for j in range(i))  # 下三角部分\n",
    "            sum_upper = sum(A[i][j] * X_prev[j] for j in range(i + 1, n))  # 上三角部分\n",
    "            X[i] = (b[i] - sum_lower - sum_upper) / A[i][i]  # 更新当前变量\n",
    "        \n",
    "        # 计算误差\n",
    "        error = max(abs(X[i] - X_prev[i]) for i in range(n))\n",
    "        times += 1\n",
    "        \n",
    "        if error < epsilon or times >= 100:\n",
    "            break\n",
    "    \n",
    "    return times, X\n"
   ]
  },
  {
   "cell_type": "code",
   "execution_count": 3,
   "id": "95a1fcae",
   "metadata": {},
   "outputs": [],
   "source": [
    "#SOR迭代\n",
    "#无穷范数以度量误差,eps=1e-7\n",
    "#SOR迭代输出迭代步数和方\n",
    "#程的解，并试确定最佳松弛因子\n",
    "def SOR(A,b,eps):\n",
    "    n=len(A)\n",
    "    x0=[1.0]*n\n",
    "    x=x0.copy()\n",
    "    k_min=float('inf')\n",
    "    x_min=x0.copy()\n",
    "    best_w=0\n",
    "    for iter_j in range(1,100):\n",
    "        w=iter_j/50\n",
    "        x=x0.copy()\n",
    "        k=0\n",
    "        while True:\n",
    "            x_new=x.copy()\n",
    "            for i in range(n):\n",
    "                s1=sum(A[i][j]*x_new[j] for j in range(i))\n",
    "                s2=sum(A[i][j]*x[j] for j in range(i+1,n))\n",
    "                x_new[i]=(1-w)*x[i]+w*(b[i]-s1-s2)/A[i][i]\n",
    "            if max(abs(x_new[i]-x[i]) for i in range(n))<eps or k>100:#防止死循环\n",
    "                break\n",
    "            x=x_new.copy()\n",
    "            k+=1\n",
    "        if k<k_min:\n",
    "            k_min=k\n",
    "            x_min=x_new.copy()\n",
    "            best_w=w\n",
    "    return best_w,k_min,x_min \n",
    "    "
   ]
  },
  {
   "cell_type": "code",
   "execution_count": 4,
   "id": "9f562c7c",
   "metadata": {},
   "outputs": [
    {
     "name": "stdout",
     "output_type": "stream",
     "text": [
      "Gauss_Seidel:\n",
      "step=48\n",
      "-0.298272786529066 0.329265525384811 -0.732025006430721 -0.265616590709246 -0.455448695347156 0.147308985515684 -0.062944577386824 0.195351530311890 0.275867379910003 \n",
      "SOR:\n",
      "w= 1.18\n",
      "step=12\n",
      "-0.298272943694419 0.329265421884324 -0.732025081055297 -0.265616627555290 -0.455448757901170 0.147308865703930 -0.062944731957687 0.195351515824496 0.275867358428962 "
     ]
    }
   ],
   "source": [
    "import numpy as np\n",
    "\n",
    "b=[-15.0,27.0,-23.0,0.0,-20.0,12.0,-7.0,7.0,10.0]\n",
    "A = np.array([\n",
    "    [31, -13, 0, 0, 0, -10, 0, 0, 0, 0],\n",
    "    [-13, 35, -9, 0, -11, 0, 0, 0, 0, 0],\n",
    "    [0, -9, 31, -10, 0, 0, 0, 0, 0, 0],\n",
    "    [0, 0, -10, 79, -30, 0, 0, 0, 0, -9],\n",
    "    [0, 0, 0, -30, 57, -7, 0, -5, 0, 0],\n",
    "    [0, 0, 0, 0, -7, 47, -30, 0, 0, 0],\n",
    "    [0, 0, 0, 0, 0, -30, 41, 0, 0, 0],\n",
    "    [0, 0, 0, 0, -5, 0, 0, 27, -2, 0],\n",
    "    [0, 0, 0, -9, 0, 0, 0, -2, 29, 0]\n",
    "], dtype=float)\n",
    "epsilon=1e-7\n",
    "times_Guass,X_Guass=Gauss_Seidel(A,b,epsilon)\n",
    "print(\"Gauss_Seidel:\")\n",
    "print(f\"step={times_Guass}\")\n",
    "for i in X_Guass:\n",
    "    print(\"%.15f\" % i,end=\" \")\n",
    "print()\n",
    "print(\"SOR:\")\n",
    "w,times_SOR,X_SOR=SOR(A,b,epsilon)\n",
    "print(\"w=\",w)\n",
    "print(f\"step={times_SOR}\")\n",
    "for i in X_SOR:\n",
    "    print(\"%.15f\" % i,end=\" \")\n"
   ]
  }
 ],
 "metadata": {
  "kernelspec": {
   "display_name": "Python 3",
   "language": "python",
   "name": "python3"
  },
  "language_info": {
   "codemirror_mode": {
    "name": "ipython",
    "version": 3
   },
   "file_extension": ".py",
   "mimetype": "text/x-python",
   "name": "python",
   "nbconvert_exporter": "python",
   "pygments_lexer": "ipython3",
   "version": "3.10.10"
  }
 },
 "nbformat": 4,
 "nbformat_minor": 5
}
