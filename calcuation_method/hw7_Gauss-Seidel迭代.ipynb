{
 "cells": [
  {
   "cell_type": "code",
   "execution_count": null,
   "id": "906b2eb0",
   "metadata": {},
   "outputs": [],
   "source": [
    "def Gauss-Seidel(A,b,eplison):\n",
    "    n=len(A)\n",
    "    X1=[1]*n\n",
    "    X2=[0]*n\n",
    "    for i in range(n):\n",
    "        for j in range(n):\n",
    "            X2[i]+=A[i][j]\n",
    "    times=0\n",
    "    while(max(abs(X2-X1))>eplison OR times<100):\n",
    "        for i in range(n):\n",
    "            X1[i]=X2[i]\n",
    "        for i in range(n):\n",
    "            for j in range(0,i):\n",
    "                X2[i]+=A[i][j]*X2[j]\n",
    "            for j in range(i+1,n):\n",
    "                X2[i]+=A[i][j]*X1[j]\n",
    "            X2[i]=(X2[i]+b[i])/A[i][i]\n",
    "        times+=1\n",
    "    return X2\n",
    "\n"
   ]
  }
 ],
 "metadata": {
  "kernelspec": {
   "display_name": "Python 3",
   "language": "python",
   "name": "python3"
  },
  "language_info": {
   "name": "python",
   "version": "3.10.10"
  }
 },
 "nbformat": 4,
 "nbformat_minor": 5
}
