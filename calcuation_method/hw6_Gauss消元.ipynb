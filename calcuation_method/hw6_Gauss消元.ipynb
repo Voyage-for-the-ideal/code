{
 "cells": [
  {
   "cell_type": "code",
   "execution_count": 8,
   "id": "4dc8335c",
   "metadata": {},
   "outputs": [],
   "source": [
    "def Guass_elimination(a,b):\n",
    "    n=len(a)\n",
    "    for i in range(n):\n",
    "        # Pivoting\n",
    "        max_row = i + max(range(n - i), key=lambda k: abs(a[i + k][i]))\n",
    "        a[i], a[max_row] = a[max_row], a[i]\n",
    "        b[i], b[max_row] = b[max_row], b[i]\n",
    "\n",
    "        # Elimination\n",
    "        for j in range(i + 1, n):\n",
    "            factor = a[j][i] / a[i][i]\n",
    "            for k in range(i, n):\n",
    "                a[j][k] -= factor * a[i][k]\n",
    "            b[j] -= factor * b[i]\n",
    "    for i in range(n-1, -1, -1):#最后一列不用处理，从倒数第二列开始\n",
    "        for j in range(i + 1, n):\n",
    "            b[i] -= a[i][j] * b[j]\n",
    "        b[i] /= a[i][i]\n",
    "    return b"
   ]
  },
  {
   "cell_type": "markdown",
   "id": "0980978a",
   "metadata": {},
   "source": [
    "1. 在进行第i列消元时，将第i列绝对值最大的项移至第i行\n",
    "2. 对剩下的n-i行中的第i列及对应`b[j]`进行消元（提前准备系数，因为运算是针对\"行\"运行的）\n",
    "3. 全部处理完后，将b向量各列进行处理，得到最终答案"
   ]
  },
  {
   "cell_type": "code",
   "execution_count": 9,
   "id": "73ebb090",
   "metadata": {},
   "outputs": [
    {
     "name": "stdout",
     "output_type": "stream",
     "text": [
      "x1 = -0.289233816015754, \n",
      "x2 = 0.345435715779115, \n",
      "x3 = -0.712811731086879, \n",
      "x4 = -0.220608510570529, \n",
      "x5 = -0.430400432704022, \n",
      "x6 = 0.154308739838311, \n",
      "x7 = -0.057822873289041, \n",
      "x8 = 0.201053894823681, \n",
      "x9 = 0.290228661879745\n",
      "（为更好的可读性，将末尾改成了换行）\n"
     ]
    }
   ],
   "source": [
    "#input matrix\n",
    "a = [\n",
    "[31,  -13,  0,   0,    0,   -10,  0,   0,    0],\n",
    "[-13, 35,  -9,   0,   -11,   0,   0,   0,    0],\n",
    "[0,   -9,  31,  -10,   0,    0,   0,   0,    0],\n",
    "[0,    0, -10,  79,  -30,   0,   0,   0,   -9],\n",
    "[0,    0,   0, -30,  57,   -7,   0,  -5,    0],\n",
    "[0,    0,   0,   0,  -7,    47,  -30,  0,    0],\n",
    "[0,    0,   0,   0,   0,   -30,  41,  0,    0],\n",
    "[0,    0,   0,   0,  -5,    0,    0,  27,  -2],\n",
    "[0,    0,   0,  -9,   0,    0,    0,  -2,   29]\n",
    "]\n",
    "b=[-15, 27, -23, 0, -20, 12, -7, 7, 10]\n",
    "ans=Guass_elimination(a,b)\n",
    "for i in range(len(ans)-1):\n",
    "    print(f\"x{i+1} = {ans[i]:.15f}\",end=\", \\n\")\n",
    "print(f\"x{len(ans)} = {ans[-1]:.15f}\")\n",
    "print(\"（为更好的可读性，将末尾改成了换行）\")"
   ]
  }
 ],
 "metadata": {
  "kernelspec": {
   "display_name": "Python 3",
   "language": "python",
   "name": "python3"
  },
  "language_info": {
   "codemirror_mode": {
    "name": "ipython",
    "version": 3
   },
   "file_extension": ".py",
   "mimetype": "text/x-python",
   "name": "python",
   "nbconvert_exporter": "python",
   "pygments_lexer": "ipython3",
   "version": "3.10.10"
  }
 },
 "nbformat": 4,
 "nbformat_minor": 5
}
