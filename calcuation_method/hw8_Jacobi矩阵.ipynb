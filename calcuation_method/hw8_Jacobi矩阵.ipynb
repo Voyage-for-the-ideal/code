{
 "cells": [
  {
   "cell_type": "code",
   "execution_count": 30,
   "metadata": {},
   "outputs": [],
   "source": [
    "# 计算实对称矩阵的特征值和特征向量\n",
    "import numpy as np\n",
    "import math\n",
    "\n",
    "def find_max(A,n):\n",
    "    # 找到最大的非对角元素对应的行和列\n",
    "    max_row, max_col = 0, 1\n",
    "    max_val = abs(A[max_row][max_col])\n",
    "    for i in range(n):\n",
    "        for j in range(i + 1, n):\n",
    "            if abs(A[i][j]) > max_val:\n",
    "                max_val = abs(A[i][j])\n",
    "                max_row, max_col = i, j\n",
    "    return max_row, max_col\n",
    "\n",
    "def judge_stop(A):\n",
    "    # 判断是否满足停止条件\n",
    "    n=len(A)\n",
    "    eps=1e-8\n",
    "    Frobenius_norm = 0.0\n",
    "    for i in range(n):\n",
    "        for j in range(i + 1, n):\n",
    "            Frobenius_norm += A[i][j] ** 2\n",
    "            Frobenius_norm += A[j][i] ** 2\n",
    "            if Frobenius_norm > eps:\n",
    "                return False\n",
    "    return True\n",
    "\n",
    "def Jacobi(A):\n",
    "    #计算矩阵A的特征向量和特征值\n",
    "    n=len(A)\n",
    "    T_final=np.eye(n)\n",
    "    while True:\n",
    "        max_row, max_col = find_max(A, n)\n",
    "        if judge_stop(A):\n",
    "            break\n",
    "        theta = 0.5 * math.atan(2 * A[max_row][max_col] / (A[max_row][max_row] - A[max_col][max_col]))\n",
    "        c = math.cos(theta)\n",
    "        s = math.sin(theta)\n",
    "        T = np.eye(n)\n",
    "        T[max_row][max_row] = c\n",
    "        T[max_col][max_col] = c\n",
    "        T[max_row][max_col] = -s\n",
    "        T[max_col][max_row] = s\n",
    "        A = np.dot(np.dot(T.T, A), T)\n",
    "        T_final = np.dot(T_final, T)\n",
    "    return A, T_final\n",
    "\n",
    "\n"
   ]
  },
  {
   "cell_type": "code",
   "execution_count": 33,
   "metadata": {},
   "outputs": [
    {
     "name": "stdout",
     "output_type": "stream",
     "text": [
      "Jacobi迭代:\n",
      "r1=-4.061950892698458\n",
      "v1=( 0.768639464454203 0.089240044294949 0.411867021553292 -0.103969230896512 0.469878222267642 ) \n",
      "r2=-12.760554989628112\n",
      "v2=( -0.221691021678688 0.591434623052939 -0.342988889993153 -0.546298657292114 0.430086707471163 ) \n",
      "r3=11.023392437635600\n",
      "v3=( -0.369283862290878 -0.440771064724168 0.542906469561391 -0.607111011255131 0.077582748563158 ) \n",
      "r4=4.574951567309574\n",
      "v4=( -0.395445978688115 0.525458959604397 0.615543217071920 0.422398869832851 0.101000506887568 ) \n",
      "r5=16.224161877381402\n",
      "v5=( -0.259419296856548 -0.414554039205810 -0.197694944607146 0.379135319964157 0.760276065011293 ) \n"
     ]
    }
   ],
   "source": [
    "A = np.array([\n",
    "    [3,2,5,4,6],\n",
    "    [2,1,3,-7,8],\n",
    "    [5,3,2,5,-4],\n",
    "    [4,-7,5,1,3],\n",
    "    [6,8,-4,3,8]\n",
    "], dtype=float)#A为对称矩阵\n",
    "ans,T=Jacobi(A)#ans为迭代结果，T为迭代矩阵\n",
    "print(\"Jacobi迭代:\")\n",
    "for i in range(len(ans)):\n",
    "    print(f\"r{i+1}={ans[i][i]:.15f}\")\n",
    "    print(f\"v{i+1}=(\",end=\" \")\n",
    "    for j in range(len(ans)):\n",
    "        print(f\"{T[i][j]:.15f}\",end=\" \")\n",
    "    print(\")\",end=\" \")\n",
    "    print()\n"
   ]
  }
 ],
 "metadata": {
  "kernelspec": {
   "display_name": "Python 3",
   "language": "python",
   "name": "python3"
  },
  "language_info": {
   "codemirror_mode": {
    "name": "ipython",
    "version": 3
   },
   "file_extension": ".py",
   "mimetype": "text/x-python",
   "name": "python",
   "nbconvert_exporter": "python",
   "pygments_lexer": "ipython3",
   "version": "3.10.10"
  }
 },
 "nbformat": 4,
 "nbformat_minor": 2
}
