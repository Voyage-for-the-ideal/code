{
 "cells": [
  {
   "cell_type": "code",
   "execution_count": 13,
   "metadata": {},
   "outputs": [
    {
     "name": "stdout",
     "output_type": "stream",
     "text": [
      "Newton迭代法结果：\n",
      "初值 = 0.1, 根 = 0.00000000, 迭代步数 = 2\n",
      "初值 = 0.2, 根 = -0.00000000, 迭代步数 = 3\n",
      "初值 = 0.9, 根 = -1.73205081, 迭代步数 = 6\n",
      "初值 = 9.0, 根 = 1.73205081, 迭代步数 = 9\n",
      "\n",
      "弦截法结果：\n",
      "初值 = (-0.1, 0.1), 根 = 0.00000000, 迭代步数 = 1\n",
      "初值 = (-0.2, 0.2), 根 = 0.00000000, 迭代步数 = 1\n",
      "初值 = (-2.0, 0.9), 根 = 1.73205081, 迭代步数 = 11\n",
      "初值 = (0.9, 9.0), 根 = 1.73205081, 迭代步数 = 13\n"
     ]
    }
   ],
   "source": [
    "import numpy as np\n",
    "import math\n",
    "\n",
    "def f(x):\n",
    "    return x**3 / 3 - x\n",
    "\n",
    "def df(x):\n",
    "    return x**2 - 1\n",
    "\n",
    "def newton(x0, eps=1e-8, max_iter=100):\n",
    "    x = x0\n",
    "    steps = 0\n",
    "    for _ in range(max_iter):\n",
    "        fx = f(x)\n",
    "        if abs(fx) < eps:\n",
    "            break\n",
    "        dfx = df(x)\n",
    "        if dfx == 0:\n",
    "            return None, steps\n",
    "        x_new = x - fx / dfx\n",
    "        if abs(x_new - x) < eps:\n",
    "            break\n",
    "        x = x_new\n",
    "        steps += 1\n",
    "    return x, steps\n",
    "\n",
    "def secant(x0, x1, eps=1e-8, max_iter=100):\n",
    "    fx0 = f(x0)\n",
    "    fx1 = f(x1)\n",
    "    steps = 0\n",
    "    for _ in range(max_iter):\n",
    "        if abs(fx1) < eps:\n",
    "            break\n",
    "        denominator = fx1 - fx0\n",
    "        if denominator == 0:\n",
    "            return None, steps\n",
    "        x_new = x1 - fx1 * (x1 - x0) / denominator\n",
    "        if abs(x_new - x1) < eps:\n",
    "            break\n",
    "        x0, x1 = x1, x_new\n",
    "        fx0, fx1 = fx1, f(x_new)\n",
    "        steps += 1\n",
    "    return x1, steps\n",
    "\n",
    "# 初值组合\n",
    "cases_newton = [0.1, 0.2, 0.9, 9.0]\n",
    "cases_secant = [(-0.1, 0.1), (-0.2, 0.2), (-2.0, 0.9), (0.9, 9.0)]\n",
    "\n",
    "# 计算并输出结果\n",
    "print(\"Newton迭代法结果：\")\n",
    "for x0 in cases_newton:\n",
    "    root, steps = newton(x0)\n",
    "    print(f\"初值 = {x0:.1f}, 根 = {root:.8f}, 迭代步数 = {steps}\")\n",
    "\n",
    "print(\"\\n弦截法结果：\")\n",
    "for x0, x1 in cases_secant:\n",
    "    root, steps = secant(x0, x1)\n",
    "    print(f\"初值 = ({x0:.1f}, {x1:.1f}), 根 = {root:.8f}, 迭代步数 = {steps}\")"
   ]
  }
 ],
 "metadata": {
  "kernelspec": {
   "display_name": "Python 3",
   "language": "python",
   "name": "python3"
  },
  "language_info": {
   "codemirror_mode": {
    "name": "ipython",
    "version": 3
   },
   "file_extension": ".py",
   "mimetype": "text/x-python",
   "name": "python",
   "nbconvert_exporter": "python",
   "pygments_lexer": "ipython3",
   "version": "3.10.10"
  }
 },
 "nbformat": 4,
 "nbformat_minor": 2
}
