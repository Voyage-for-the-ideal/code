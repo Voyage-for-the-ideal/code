{
 "cells": [
  {
   "cell_type": "code",
   "execution_count": 10,
   "metadata": {},
   "outputs": [
    {
     "name": "stdout",
     "output_type": "stream",
     "text": [
      "10279.0 14565.0 3.8169327887114743\n"
     ]
    }
   ],
   "source": [
    "import math\n",
    "\n",
    "def f(x1,x2):\n",
    "    a=[1,2,4,1]\n",
    "    result1=x1+x2*2\n",
    "    result2=x1*4+x2\n",
    "    return (result1,result2)\n",
    "x1,x2=map(float,input().split())\n",
    "result1,result2=f(x1,x2)\n",
    "print(result1,result2,result1/x1)"
   ]
  }
 ],
 "metadata": {
  "kernelspec": {
   "display_name": "Python 3",
   "language": "python",
   "name": "python3"
  },
  "language_info": {
   "codemirror_mode": {
    "name": "ipython",
    "version": 3
   },
   "file_extension": ".py",
   "mimetype": "text/x-python",
   "name": "python",
   "nbconvert_exporter": "python",
   "pygments_lexer": "ipython3",
   "version": "3.10.10"
  }
 },
 "nbformat": 4,
 "nbformat_minor": 2
}
