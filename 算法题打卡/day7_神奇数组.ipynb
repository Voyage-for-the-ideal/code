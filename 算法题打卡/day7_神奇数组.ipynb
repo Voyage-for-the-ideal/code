{
 "cells": [
  {
   "cell_type": "code",
   "execution_count": 11,
   "metadata": {},
   "outputs": [
    {
     "name": "stdout",
     "output_type": "stream",
     "text": [
      "4\n"
     ]
    }
   ],
   "source": [
    "from collections import deque\n",
    "\n",
    "q=deque()\n",
    "N=int(input())\n",
    "current=3\n",
    "num=0#用以判断第current个数是什么\n",
    "judge=1#判断接下来是1还是2\n",
    "result=1\n",
    "if N<=3:\n",
    "    print(1)\n",
    "else:\n",
    "    q.append(2)\n",
    "\n",
    "    while(current<N):\n",
    "        num=q.popleft()\n",
    "        if(num==1):\n",
    "            if judge==1:\n",
    "                q.append(1)\n",
    "                result=result+1\n",
    "            if judge==0:\n",
    "                q.append(2)\n",
    "            judge=(judge+1)%2\n",
    "            current=current+1\n",
    "        if(num==2):\n",
    "            if judge==1:\n",
    "                q.append(1)\n",
    "                q.append(1)\n",
    "                result=result+2\n",
    "            if judge==0:\n",
    "                q.append(2)\n",
    "                q.append(2)\n",
    "            judge=(judge+1)%2\n",
    "            current=current+2\n",
    "    if current==N:\n",
    "        print(result)\n",
    "    if current>N:\n",
    "        if q.pop()==1:\n",
    "            print(result-1)\n",
    "        if q.pop()==2:\n",
    "            print(result)"
   ]
  },
  {
   "cell_type": "markdown",
   "metadata": {},
   "source": [
    "1. 使用了队列。其中队列通过collection的deque来实现\n",
    "2. `q.pop()`和`q.pop`的区别：前者是使用pop功能弹出q队尾的数据，后者是访问`q.pop`在内存中的位置"
   ]
  },
  {
   "cell_type": "code",
   "execution_count": null,
   "metadata": {},
   "outputs": [
    {
     "name": "stdout",
     "output_type": "stream",
     "text": [
      "4\n"
     ]
    }
   ],
   "source": [
    "def magical_string(n: int) -> int:\n",
    "    if n == 0:\n",
    "        return 0\n",
    "    if n <= 3:\n",
    "        return 1\n",
    "  \n",
    "    s = [1, 2, 2]\n",
    "    count = 1  # 前三个字符中有1个'1'\n",
    "    i = 2      # 当前指针位置，用于确定下一个分组的长度\n",
    "    current_char = 1  # 下一个分组的字符是1\n",
    "  \n",
    "    while len(s) < n:\n",
    "        length = s[i]\n",
    "        add = min(length, n - len(s))#防止生成长度超过n\n",
    "        if current_char == 1:\n",
    "            count += add\n",
    "        # 添加字符到s中\n",
    "        s.extend([current_char] * length)\n",
    "        # 切换字符类型\n",
    "        current_char = 1 if current_char == 2 else 2\n",
    "        i += 1\n",
    "  \n",
    "    return count\n",
    "N=int(input())\n",
    "print(magical_string(N))"
   ]
  },
  {
   "cell_type": "markdown",
   "metadata": {},
   "source": [
    "AI写的，逻辑都是按顺序生成数组，但是没有用到栈，直接用数组s[1]自生成。内存上比我的更简便，但因为要访问`s[i]`,所以时间上比我的更慢"
   ]
  }
 ],
 "metadata": {
  "kernelspec": {
   "display_name": "Python 3",
   "language": "python",
   "name": "python3"
  },
  "language_info": {
   "codemirror_mode": {
    "name": "ipython",
    "version": 3
   },
   "file_extension": ".py",
   "mimetype": "text/x-python",
   "name": "python",
   "nbconvert_exporter": "python",
   "pygments_lexer": "ipython3",
   "version": "3.10.10"
  }
 },
 "nbformat": 4,
 "nbformat_minor": 2
}
