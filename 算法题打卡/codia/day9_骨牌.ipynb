{
 "cells": [
  {
   "cell_type": "code",
   "execution_count": null,
   "metadata": {},
   "outputs": [],
   "source": [
    "def way(x):\n",
    "    if x==1:\n",
    "        return 1\n",
    "    if x==2:\n",
    "        return 2\n",
    "    if x==3:\n",
    "        return 4\n",
    "    return way(x-1)+way(x-2)+way(x-3)\n",
    "\n",
    "n=int(input())\n",
    "print(way(n))\n",
    "\n",
    "#x_n=x_(n-1)+x_(n-2)+x(n-3)"
   ]
  },
  {
   "cell_type": "markdown",
   "metadata": {},
   "source": [
    "这段代码和下面那段虽然是一样的原理，但是上面的使用了递归，会重复计算相同的项。比如`x_(x-2)`即会在递归`x_(n-1)`时计算，也会在递归`x_(n)`的时候计算。而后面的代码通过数组储存，避免了重复计算。"
   ]
  },
  {
   "cell_type": "code",
   "execution_count": null,
   "metadata": {},
   "outputs": [],
   "source": [
    "n = int(input())\n",
    "if n == 0:\n",
    "    print(1)\n",
    "else:\n",
    "    dp = [0] * (n + 1)\n",
    "    dp[0] = 1\n",
    "    for i in range(1, n + 1):\n",
    "        total = dp[i-1]\n",
    "        if i >= 2:\n",
    "            total += dp[i-2]\n",
    "        if i >= 3:\n",
    "            total += dp[i-3]\n",
    "        dp[i] = total\n",
    "    print(dp[n])"
   ]
  }
 ],
 "metadata": {
  "language_info": {
   "name": "python"
  }
 },
 "nbformat": 4,
 "nbformat_minor": 2
}
