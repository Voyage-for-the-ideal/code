{
 "cells": [
  {
   "cell_type": "code",
   "execution_count": null,
   "id": "d62d1606",
   "metadata": {},
   "outputs": [],
   "source": [
    "import sys\n",
    "input_ = sys.stdin.read().split()\n",
    "num=list(input_)\n",
    "for i in range(len(num)):\n",
    "    num[i]=int(num[i])\n",
    "ptr=0\n",
    "base = list(\"0123456789ABCDEFGHIJKLMNOPQRSTUVWXYZ\")\n",
    "ans=\"\"\n",
    "\n",
    "while True:\n",
    "    if ptr>=len(num):\n",
    "        break\n",
    "    k=num[ptr]\n",
    "    ptr+=1\n",
    "    x=num[ptr]\n",
    "    ptr+=1\n",
    "    while True:\n",
    "        if k==0:\n",
    "            break\n",
    "        if k<0:\n",
    "            k=-k\n",
    "            ans+='-'\n",
    "        temp1=k%x\n",
    "        k//=x\n",
    "        if temp1>9:\n",
    "            ans+=base[temp1]\n",
    "        else:\n",
    "            ans+=str(temp1)\n",
    "        \n",
    "    ans=ans[::-1]\n",
    "    print(ans)\n",
    "    ans=\"\""
   ]
  },
  {
   "cell_type": "code",
   "execution_count": null,
   "id": "424f0d7f",
   "metadata": {},
   "outputs": [],
   "source": [
    "import sys\n",
    "\n",
    "def convert_to_base(k, x):\n",
    "    digits = \"0123456789ABCDEFGHIJKLMNOPQRSTUVWXYZ\"\n",
    "    if k == 0:\n",
    "        return \"0\"\n",
    "    negative = False\n",
    "    if k < 0:\n",
    "        negative = True\n",
    "        k = -k\n",
    "    result = []\n",
    "    while k > 0:\n",
    "        remainder = k % x\n",
    "        result.append(digits[remainder])\n",
    "        k = k // x\n",
    "    if negative:\n",
    "        result.append('-')\n",
    "    return ''.join(reversed(result))\n",
    "\n",
    "for line in sys.stdin:\n",
    "    line = line.strip()\n",
    "    if not line:\n",
    "        continue\n",
    "    k, x = map(int, line.split())\n",
    "    print(convert_to_base(k, x))"
   ]
  }
 ],
 "metadata": {
  "language_info": {
   "name": "python"
  }
 },
 "nbformat": 4,
 "nbformat_minor": 5
}
