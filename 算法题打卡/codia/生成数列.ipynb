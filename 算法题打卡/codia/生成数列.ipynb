{
 "cells": [
  {
   "cell_type": "markdown",
   "id": "94e93977",
   "metadata": {},
   "source": []
  },
  {
   "cell_type": "code",
   "execution_count": 15,
   "id": "19889f4f",
   "metadata": {},
   "outputs": [
    {
     "name": "stdout",
     "output_type": "stream",
     "text": [
      "ab\n",
      "ba\n",
      "\n",
      "abc\n",
      "acb\n",
      "bac\n",
      "bca\n",
      "cab\n",
      "cba\n",
      "\n"
     ]
    }
   ],
   "source": [
    "def seq(list_in,str_out,m,n):\n",
    "    if len(str_out)==n:\n",
    "        print(str_out)\n",
    "        return 0\n",
    "    else:\n",
    "        for i in range(m):\n",
    "            x=list_in[i]\n",
    "            str_out+=x\n",
    "            list_in.remove(x)\n",
    "            seq(list_in,str_out,m-1,n)\n",
    "            list_in.insert(i,x)\n",
    "            str_out=str_out[:-1]\n",
    "            \n",
    "     \n",
    "\n",
    "n = int(input())\n",
    "str_out=\"\"\n",
    "for i in range(n):\n",
    "    list_in=sorted(list(input()))\n",
    "    seq(list_in,str_out,len(list_in),len(list_in))\n",
    "    print()"
   ]
  },
  {
   "cell_type": "markdown",
   "id": "c87ca05f",
   "metadata": {},
   "source": [
    "递归生成str，注意只输出一个空行为`print()`，`print(\"\\n\")`会输出两个空行（默认end为空行）"
   ]
  }
 ],
 "metadata": {
  "kernelspec": {
   "display_name": "Python 3",
   "language": "python",
   "name": "python3"
  },
  "language_info": {
   "codemirror_mode": {
    "name": "ipython",
    "version": 3
   },
   "file_extension": ".py",
   "mimetype": "text/x-python",
   "name": "python",
   "nbconvert_exporter": "python",
   "pygments_lexer": "ipython3",
   "version": "3.10.10"
  }
 },
 "nbformat": 4,
 "nbformat_minor": 5
}
