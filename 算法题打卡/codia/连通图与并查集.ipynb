{
 "cells": [
  {
   "cell_type": "code",
   "execution_count": null,
   "id": "1a642b41",
   "metadata": {},
   "outputs": [],
   "source": [
    "class UnionFind:\n",
    "    def __init__(self, size):\n",
    "        self.parent = list(range(size + 1))  # 城镇编号从1开始\n",
    "\n",
    "    def find(self, x):\n",
    "        if self.parent[x] != x:\n",
    "            self.parent[x] = self.find(self.parent[x])  # 路径压缩\n",
    "        return self.parent[x]\n",
    "    #返回该结点的根结点\n",
    "\n",
    "    def union(self, x, y):\n",
    "        x_root = self.find(x)\n",
    "        y_root = self.find(y)\n",
    "        if x_root != y_root:\n",
    "            self.parent[y_root] = x_root  # 合并两个集合"
   ]
  },
  {
   "cell_type": "code",
   "execution_count": null,
   "id": "d2e6bd69",
   "metadata": {},
   "outputs": [],
   "source": [
    "def main():\n",
    "    import sys\n",
    "    input = sys.stdin.read().split()\n",
    "    #从标准输入中读取所有输入内容\n",
    "    # 按“空白字符”（空格/换行符/制表符等）分割成一个字符串列表\n",
    "    ptr = 0\n",
    "    while True:\n",
    "    #实际上只会运行一个循环\n",
    "        if ptr >= len(input):\n",
    "            break\n",
    "        n = int(input[ptr])\n",
    "        ptr += 1\n",
    "        if n == 0:\n",
    "            break\n",
    "        m = int(input[ptr])\n",
    "        ptr += 1\n",
    "        uf = UnionFind(n)\n",
    "        for _ in range(m):\n",
    "            u = int(input[ptr])\n",
    "            v = int(input[ptr + 1])\n",
    "            ptr += 2\n",
    "            uf.union(u, v)\n",
    "        # 统计连通分量的数量\n",
    "        roots = set()\n",
    "        for i in range(1, n + 1):\n",
    "            roots.add(uf.find(i))\n",
    "        print(len(roots) - 1)\n",
    "\n",
    "if __name__ == \"__main__\":\n",
    "    main()"
   ]
  },
  {
   "cell_type": "markdown",
   "id": "9b578d50",
   "metadata": {},
   "source": [
    "使用**并查集**查找所有的联通分量。\n",
    "\n",
    "关键在于`union()`和`find()`\n",
    "\n",
    "`union()`:将两个结点并入一个联通分量中(将两个结点的父节点统一)\n",
    "\n",
    "`find()`:找到某个结点的父节点（标识该结点属于哪个连通分量）\n"
   ]
  }
 ],
 "metadata": {
  "kernelspec": {
   "display_name": "Python 3",
   "language": "python",
   "name": "python3"
  },
  "language_info": {
   "name": "python",
   "version": "3.10.10"
  }
 },
 "nbformat": 4,
 "nbformat_minor": 5
}
