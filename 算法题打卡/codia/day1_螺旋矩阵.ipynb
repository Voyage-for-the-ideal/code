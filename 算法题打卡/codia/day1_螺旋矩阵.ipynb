{
 "cells": [
  {
   "cell_type": "markdown",
   "metadata": {},
   "source": [
    "#### 硬算（直接一步一步导）"
   ]
  },
  {
   "cell_type": "code",
   "execution_count": 6,
   "metadata": {},
   "outputs": [
    {
     "name": "stdout",
     "output_type": "stream",
     "text": [
      "9\n"
     ]
    }
   ],
   "source": [
    "input_string = input(\"请输入\")\n",
    "n, m, i, j = map(int, input_string.split())\n",
    "answer=1\n",
    "x,y=1,1\n",
    "while(x!=j or y!=i):\n",
    "    if y==1 and x<m:\n",
    "        x=x+1\n",
    "    elif x==m and y<n:\n",
    "        y=y+1\n",
    "    elif y==n and x>1:\n",
    "        x=x-1\n",
    "    elif x==1 and y>2:\n",
    "        y=y-1\n",
    "    elif x==1 and y==2:\n",
    "        y=1\n",
    "        n=n-2\n",
    "        m=m-2\n",
    "        i=i-1\n",
    "        j=j-1\n",
    "    answer=answer+1\n",
    "print(answer)"
   ]
  },
  {
   "cell_type": "markdown",
   "metadata": {},
   "source": [
    "#### 计算$a_{ij}$在第几层（记为k），求出前k-1层累计的数，然后对第k层表面遍历"
   ]
  },
  {
   "cell_type": "code",
   "execution_count": 20,
   "metadata": {},
   "outputs": [],
   "source": [
    "def f(n,m,i,j):\n",
    "    i -= 1  # 转换为0-based索引\n",
    "    j -= 1\n",
    "\n",
    "    # 计算所在层k\n",
    "    k = min(i, j, (n - 1) - i, (m - 1) - j)\n",
    "\n",
    "    sum_prev = 0\n",
    "    for x in range(k):\n",
    "        rx = n - 2 * x\n",
    "        cx = m - 2 * x\n",
    "        if rx <= 0 or cx <= 0:\n",
    "            continue\n",
    "        if rx == 1 or cx == 1:\n",
    "            sum_prev += rx * cx\n",
    "        else:\n",
    "            sum_prev += 2 * (rx + cx) - 4\n",
    "\n",
    "    r = n - 2 * k\n",
    "    c = m - 2 * k\n",
    "\n",
    "    if i == k:\n",
    "        # 顶边\n",
    "        number = sum_prev + (j - k) + 1\n",
    "    elif j == k + c - 1:\n",
    "        # 右边\n",
    "        number = sum_prev + c + (i - k)\n",
    "    elif i == k + r - 1:\n",
    "        # 底边\n",
    "        number = sum_prev + c + (r - 1) + (k + c - 2 - j) + 1\n",
    "    else:\n",
    "        # 左边\n",
    "        number = sum_prev + c + (r - 1) + (c - 1) + (k + r - 1 - i)\n",
    "    return number"
   ]
  },
  {
   "cell_type": "code",
   "execution_count": 19,
   "metadata": {},
   "outputs": [
    {
     "ename": "ValueError",
     "evalue": "not enough values to unpack (expected 4, got 0)",
     "output_type": "error",
     "traceback": [
      "\u001b[1;31m---------------------------------------------------------------------------\u001b[0m",
      "\u001b[1;31mValueError\u001b[0m                                Traceback (most recent call last)",
      "Cell \u001b[1;32mIn[19], line 1\u001b[0m\n\u001b[1;32m----> 1\u001b[0m n, m, i, j \u001b[38;5;241m=\u001b[39m \u001b[38;5;28mmap\u001b[39m(\u001b[38;5;28mint\u001b[39m, \u001b[38;5;28minput\u001b[39m()\u001b[38;5;241m.\u001b[39msplit())\n\u001b[0;32m      2\u001b[0m \u001b[38;5;28;01mdef\u001b[39;00m \u001b[38;5;21mf\u001b[39m(n,m,i,j):\n\u001b[0;32m      3\u001b[0m     i \u001b[38;5;241m-\u001b[39m\u001b[38;5;241m=\u001b[39m \u001b[38;5;241m1\u001b[39m  \u001b[38;5;66;03m# 转换为0-based索引\u001b[39;00m\n",
      "\u001b[1;31mValueError\u001b[0m: not enough values to unpack (expected 4, got 0)"
     ]
    }
   ],
   "source": [
    "n, m, i, j = map(int, input().split())\n",
    "number = f(n, m, i, j)\n",
    "print(number)"
   ]
  },
  {
   "cell_type": "code",
   "execution_count": 23,
   "metadata": {},
   "outputs": [
    {
     "name": "stdout",
     "output_type": "stream",
     "text": [
      "1 2 3 4 \n",
      "\n",
      "12 13 14 5 \n",
      "\n",
      "11 16 15 6 \n",
      "\n",
      "10 9 8 7 \n",
      "\n"
     ]
    },
    {
     "ename": "ValueError",
     "evalue": "invalid literal for int() with base 10: ''",
     "output_type": "error",
     "traceback": [
      "\u001b[1;31m---------------------------------------------------------------------------\u001b[0m",
      "\u001b[1;31mValueError\u001b[0m                                Traceback (most recent call last)",
      "Cell \u001b[1;32mIn[23], line 3\u001b[0m\n\u001b[0;32m      1\u001b[0m \u001b[38;5;28;01mwhile\u001b[39;00m \u001b[38;5;28;01mTrue\u001b[39;00m:\n\u001b[0;32m      2\u001b[0m     \u001b[38;5;28;01mtry\u001b[39;00m:\n\u001b[1;32m----> 3\u001b[0m         n\u001b[38;5;241m=\u001b[39m \u001b[38;5;28;43mint\u001b[39;49m\u001b[43m(\u001b[49m\u001b[38;5;28;43minput\u001b[39;49m\u001b[43m(\u001b[49m\u001b[43m)\u001b[49m\u001b[43m)\u001b[49m\n\u001b[0;32m      4\u001b[0m         m\u001b[38;5;241m=\u001b[39mn\n\u001b[0;32m      5\u001b[0m         \u001b[38;5;28;01mif\u001b[39;00m n \u001b[38;5;241m==\u001b[39m \u001b[38;5;124m\"\u001b[39m\u001b[38;5;124m\"\u001b[39m:\n",
      "\u001b[1;31mValueError\u001b[0m: invalid literal for int() with base 10: ''"
     ]
    }
   ],
   "source": [
    "while True:\n",
    "    try:\n",
    "        n= int(input())\n",
    "        m=n\n",
    "        if n == \"\":\n",
    "            break\n",
    "        else:\n",
    "            for i in range(1,n+1):\n",
    "                for j in range(1,n+1):\n",
    "                    number = f(n,n, i, j)\n",
    "                    print(number, end=\" \")\n",
    "                print(\"\\n\")\n",
    "                \n",
    "    except EOFError:\n",
    "        # 如果用户输入了 EOF（通常是 Ctrl+D 或 Ctrl+Z），则退出循环\n",
    "        break"
   ]
  }
 ],
 "metadata": {
  "kernelspec": {
   "display_name": "Python 3",
   "language": "python",
   "name": "python3"
  },
  "language_info": {
   "codemirror_mode": {
    "name": "ipython",
    "version": 3
   },
   "file_extension": ".py",
   "mimetype": "text/x-python",
   "name": "python",
   "nbconvert_exporter": "python",
   "pygments_lexer": "ipython3",
   "version": "3.10.10"
  }
 },
 "nbformat": 4,
 "nbformat_minor": 2
}
