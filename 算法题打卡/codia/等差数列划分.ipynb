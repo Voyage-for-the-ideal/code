{
 "cells": [
  {
   "cell_type": "markdown",
   "id": "78a7c311",
   "metadata": {},
   "source": [
    "给定随机数列，求其子列中等差数列个数"
   ]
  },
  {
   "cell_type": "code",
   "execution_count": null,
   "id": "0f461167",
   "metadata": {},
   "outputs": [],
   "source": [
    "import sys\n",
    "from collections import defaultdict\n",
    "\n",
    "def count_arithmetic_slices(A):\n",
    "    n = len(A)\n",
    "    if n < 3:\n",
    "        return 0\n",
    "    dp = [defaultdict(int) for _ in range(n)]\n",
    "    res = 0\n",
    "    for i in range(n):\n",
    "        for j in range(i):\n",
    "            d = A[i] - A[j]\n",
    "            res += dp[j][d]\n",
    "            # 将dp[j][d]（以A[j]为倒数第二项，且公差为d的等差子序列数量）加到结果中\n",
    "            # 因为每个这样的子序列加上A[i]都会形成一个新的等差子序列\n",
    "            dp[i][d] += dp[j][d] + 1\n",
    "            # 更新dp[i][d]，即以A[i]结尾且公差为d的等差子序列数量\n",
    "            # 它等于以A[j]结尾且公差为d的等差子序列数量加1（因为加上了A[i]）\n",
    "\n",
    "    return res\n",
    "\n",
    "# 读取输入\n",
    "result=0\n",
    "elements = input()[1:-1].split(', ')\n",
    "# 将每个元素转换为整数\n",
    "list_in = list(map(int, elements))\n",
    "print(count_arithmetic_slices(list_in))"
   ]
  },
  {
   "cell_type": "markdown",
   "id": "9a3aebb3",
   "metadata": {},
   "source": [
    "### 使用了强大的dp（递推）\n",
    "`dp = [defaultdict(int) for _ in range(n)]`:生成一个n元数组，每个元素为一个dict\n",
    "其中`dp[j][d]`表示以$a[j]$为倒数第二项，公差为d的子序列数量，注意，`dp[j][d]`是在遍历过程中逐渐增加的。\n",
    "#### 可能的疑惑\n",
    "##### 为什么j一定要从0开始遍历？\n",
    "因为需要用`dp[i][d] += dp[j][d] + 1`进行递推，从0开始相当于算上了第一项\n",
    "##### `defaultdict()`和`dict()`的区别\n",
    "`defaultdict()`：如果访问到了不存在的值，可以直接使用默认值（比如在这里如果`dp[j][d]`不存在，其将自动用0填充。这种属性在**动态规划**问题中很常见）\n",
    "`dict()`：在访问之前需要先查看值是否存在，如不存在需要用0填充\n",
    "##### `res += dp[j][d]`没算上`j=n`,不会少一些吗？\n",
    "不会，因为以$a_n$为结尾的数列被前面的项贡献完了（或者说，$a_n$不可能为倒数第二项）\n",
    "\n",
    "#### 其他\n",
    "zjh说dp基本都是递推，这道题也是，通过两层嵌套生成了每一项为结尾的等差数列数量\n"
   ]
  }
 ],
 "metadata": {
  "language_info": {
   "name": "python"
  }
 },
 "nbformat": 4,
 "nbformat_minor": 5
}
