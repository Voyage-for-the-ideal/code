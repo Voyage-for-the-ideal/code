{
 "cells": [
  {
   "cell_type": "code",
   "execution_count": null,
   "metadata": {},
   "outputs": [],
   "source": [
    "import math\n",
    "def fibonacci(n):\n",
    "    sqrt5 = math.sqrt(5)\n",
    "    phi = (1 + sqrt5) / 2\n",
    "    psi = (1 - sqrt5) / 2\n",
    "    return (phi**n - psi**n) / sqrt5\n",
    "\n",
    "n=int(input())\n",
    "print(round(fibonacci(n+1)))"
   ]
  },
  {
   "cell_type": "markdown",
   "metadata": {},
   "source": [
    "**直接输出fibonacci数列通项**\n",
    "> round():对输出取整，避免浮点数的误差"
   ]
  }
 ],
 "metadata": {
  "language_info": {
   "name": "python"
  }
 },
 "nbformat": 4,
 "nbformat_minor": 2
}
