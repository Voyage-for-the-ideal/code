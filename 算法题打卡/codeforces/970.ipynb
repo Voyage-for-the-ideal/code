{
 "cells": [
  {
   "cell_type": "code",
   "execution_count": null,
   "id": "3c3c177d",
   "metadata": {},
   "outputs": [
    {
     "name": "stdout",
     "output_type": "stream",
     "text": [
      "NO\n",
      "NO\n",
      "NO\n"
     ]
    },
    {
     "ename": "ValueError",
     "evalue": "not enough values to unpack (expected 2, got 0)",
     "output_type": "error",
     "traceback": [
      "\u001b[1;31m---------------------------------------------------------------------------\u001b[0m",
      "\u001b[1;31mValueError\u001b[0m                                Traceback (most recent call last)",
      "Cell \u001b[1;32mIn[3], line 3\u001b[0m\n\u001b[0;32m      1\u001b[0m N\u001b[38;5;241m=\u001b[39m\u001b[38;5;28mint\u001b[39m(\u001b[38;5;28minput\u001b[39m())\n\u001b[0;32m      2\u001b[0m \u001b[38;5;28;01mfor\u001b[39;00m i \u001b[38;5;129;01min\u001b[39;00m \u001b[38;5;28mrange\u001b[39m(N):\n\u001b[1;32m----> 3\u001b[0m     a,b\u001b[38;5;241m=\u001b[39m\u001b[38;5;28minput\u001b[39m()\u001b[38;5;241m.\u001b[39msplit()\n\u001b[0;32m      4\u001b[0m     a,b\u001b[38;5;241m=\u001b[39m\u001b[38;5;28mint\u001b[39m(a),\u001b[38;5;28mint\u001b[39m(b)\n\u001b[0;32m      5\u001b[0m     \u001b[38;5;28;01mif\u001b[39;00m a\u001b[38;5;241m%\u001b[39m\u001b[38;5;241m2\u001b[39m\u001b[38;5;241m==\u001b[39m\u001b[38;5;241m1\u001b[39m \u001b[38;5;129;01mor\u001b[39;00m (a\u001b[38;5;241m==\u001b[39m\u001b[38;5;241m0\u001b[39m \u001b[38;5;129;01mand\u001b[39;00m b\u001b[38;5;241m%\u001b[39m\u001b[38;5;241m2\u001b[39m\u001b[38;5;241m==\u001b[39m\u001b[38;5;241m1\u001b[39m):\u001b[38;5;28mprint\u001b[39m(\u001b[38;5;124m\"\u001b[39m\u001b[38;5;124mNO\u001b[39m\u001b[38;5;124m\"\u001b[39m)\n",
      "\u001b[1;31mValueError\u001b[0m: not enough values to unpack (expected 2, got 0)"
     ]
    }
   ],
   "source": [
    "#A\n",
    "N=int(input())\n",
    "for i in range(N):\n",
    "    a,b=input().split()\n",
    "    a,b=int(a),int(b)\n",
    "    if a%2==1 or (a==0 and b%2==1):print(\"NO\")\n",
    "    else: print(\"YES\")"
   ]
  },
  {
   "cell_type": "code",
   "execution_count": null,
   "id": "2c8c18b9",
   "metadata": {},
   "outputs": [
    {
     "name": "stdout",
     "output_type": "stream",
     "text": [
      "NO\n",
      "YES\n",
      "YES\n",
      "NO\n",
      "NO\n"
     ]
    }
   ],
   "source": [
    "#B\n",
    "N=int(input())\n",
    "n=0\n",
    "for i in range(N):\n",
    "    n=int(input())\n",
    "    s=list(input())\n",
    "    n_sqrt=n**0.5\n",
    "    if int(n_sqrt)-n_sqrt!=0:\n",
    "        print(\"NO\")\n",
    "    else:\n",
    "        num_1=0\n",
    "        num_0=0\n",
    "        for i in range(n):\n",
    "            if s[i]==\"1\":\n",
    "                num_1+=1\n",
    "            else:\n",
    "                num_0+=1\n",
    "        if num_1==n_sqrt*4-4:\n",
    "            print(\"Yes\")\n",
    "        else:\n",
    "            print(\"No\")"
   ]
  },
  {
   "cell_type": "code",
   "execution_count": null,
   "id": "a71eac4b",
   "metadata": {},
   "outputs": [],
   "source": [
    "#C\n",
    "N=int(input())\n",
    "for i in range(N):\n",
    "    l,r=map(int,input().split())\n",
    "    l,r=1,r-l+1\n",
    "    num=1\n",
    "    while (num**2-num+2)/2<=r:\n",
    "        num+=1\n",
    "    if (num**2-num+2)/2>r:\n",
    "        num-=1\n",
    "    print(num)"
   ]
  },
  {
   "cell_type": "code",
   "execution_count": null,
   "id": "35d7ee93",
   "metadata": {},
   "outputs": [
    {
     "name": "stdout",
     "output_type": "stream",
     "text": [
      "4 1 4 4 1 4 "
     ]
    }
   ],
   "source": [
    "#D\n",
    "t=int(input())\n",
    "\n",
    "for _  in range(t):\n",
    "    n=int(input())\n",
    "    a=list(map(int,input().split()))\n",
    "    b=input()\n",
    "    black=[0]*n\n",
    "    black_temp=0\n",
    "    visited_temp=[]\n",
    "    visited=[0]*n\n",
    "    for i in range(n):\n",
    "        black_temp=0\n",
    "        visited_temp=[]\n",
    "        if visited[i]==1:continue\n",
    "        j=i\n",
    "        if j+1==a[j]:\n",
    "            if b[j]==\"0\":\n",
    "                black[i]+=1\n",
    "            visited[i]=1\n",
    "        else:\n",
    "            j=a[j]-1\n",
    "            visited[i]=1\n",
    "            if b[i]==\"0\":\n",
    "                black_temp+=1\n",
    "            visited_temp.append(i)\n",
    "            while j!=i:\n",
    "                visited[j]=1\n",
    "                if b[j]==\"0\":\n",
    "                    black_temp+=1\n",
    "                visited_temp.append(j)\n",
    "                j=a[j]-1\n",
    "            for k in range(len(visited_temp)):\n",
    "                black[visited_temp[k]]=black_temp\n",
    "    for k in range(n):\n",
    "            print(black[k],end=\" \")\n",
    "    print()\n",
    "\n"
   ]
  },
  {
   "cell_type": "code",
   "execution_count": null,
   "id": "32f911bf",
   "metadata": {},
   "outputs": [
    {
     "name": "stdout",
     "output_type": "stream",
     "text": [
      "1\n"
     ]
    }
   ],
   "source": [
    "#E\n",
    "t=int(input())\n",
    "\n",
    "for _ in range(t):\n",
    "    n=int(input())\n",
    "    s=input()\n",
    "    num=float(\"inf\")\n",
    "    alpha_max_num_1=0\n",
    "    alpha_max_num_2=0\n",
    "    alphabet_left = [[0 for _ in range(26)] for _ in range(n+5)]\n",
    "    alphabet_right = [[0 for _ in range(26)] for _ in range(n+5)]\n",
    "    if n==1 or n==3:\n",
    "        print(1)\n",
    "        continue\n",
    "    if n==2:\n",
    "        print(0)\n",
    "        continue\n",
    "    \n",
    "    if n%2==0:\n",
    "        j=n-1\n",
    "        \n",
    "        while j>=0:\n",
    "            alphabet_left[n-1][ord(s[j])-97]+=1\n",
    "            alphabet_left[n-2][ord(s[j-1])-97]+=1\n",
    "            j-=2\n",
    "        for i in range(26):\n",
    "            if alphabet_left[n-1][i]>alpha_max_num_2:\n",
    "                alpha_max_num_2=alphabet_left[n-1][i]\n",
    "                \n",
    "            if alphabet_left[n-2][i]>alpha_max_num_1:\n",
    "                alpha_max_num_1=alphabet_left[n-2][i]\n",
    "                \n",
    "        num=n-alpha_max_num_1-alpha_max_num_2\n",
    "    else:\n",
    "        for i in range(0,n,2):\n",
    "            for j in range(26):\n",
    "                alphabet_left[i][j]=alphabet_left[i-2][j] if i>1 else 0\n",
    "            alphabet_left[i][ord(s[i])-97]+=1\n",
    "        for i in range(1,n,2):\n",
    "            for j in range(26):\n",
    "                alphabet_left[i][j]=alphabet_left[i-2][j] if i>1 else 0\n",
    "            alphabet_left[i][ord(s[i])-97]+=1\n",
    "        for i in range(n-1,-1,-2):\n",
    "            for j in range(26):\n",
    "                alphabet_right[i][j]=alphabet_right[i+2][j] if i<n-2 else 0\n",
    "            alphabet_right[i][ord(s[i])-97]+=1\n",
    "        for i in range(n-2,-1,-2):\n",
    "            for j in range(26):\n",
    "                alphabet_right[i][j]=alphabet_right[i+2][j] if i<n-2 else 0\n",
    "            alphabet_right[i][ord(s[i])-97]+=1\n",
    "\n",
    "        for i in range(n):\n",
    "            num_1=0\n",
    "            num_2=0\n",
    "            for j in range(26):\n",
    "                if(i>=1):num_1=max(num_1,alphabet_left[i-1][j]+alphabet_right[i+2][j])\n",
    "                else: num_1=max(num_1,alphabet_right[i+2][j])\n",
    "                if(i>=2):num_2=max(num_2,alphabet_left[i-2][j]+alphabet_right[i+1][j])\n",
    "                else: num_2=max(num_2,alphabet_right[i+1][j])\n",
    "            num=min(num,n-num_1-num_2)\n",
    "            \n",
    "    \n",
    "    if n%2==0:\n",
    "        print(num)\n",
    "    else:print(num)\n",
    "                    "
   ]
  },
  {
   "cell_type": "code",
   "execution_count": null,
   "id": "d87b455f",
   "metadata": {},
   "outputs": [],
   "source": [
    "#E\n",
    "t = int(input())\n",
    "for _ in range(t):\n",
    "    n = int(input())\n",
    "    s = input()\n",
    "    res = len(s)\n",
    "    if n % 2 == 0:\n",
    "        v = [[0] * 26 for _ in range(2)]\n",
    "        for i in range(n):\n",
    "            v[i % 2][ord(s[i]) - ord('a')] += 1\n",
    "        for i in range(2):\n",
    "            mx = max(v[i])\n",
    "            res -= mx\n",
    "        print(res)\n",
    "    else:\n",
    "        pref = [[0] * 26 for _ in range(2)]\n",
    "        suf = [[0] * 26 for _ in range(2)]\n",
    "        for i in range(n - 1, -1, -1):\n",
    "            suf[i % 2][ord(s[i]) - ord('a')] += 1\n",
    "        for i in range(n):\n",
    "            suf[i % 2][ord(s[i]) - ord('a')] -= 1\n",
    "            ans = n\n",
    "            for k in range(2):\n",
    "                mx = 0\n",
    "                for j in range(26):\n",
    "                    mx = max(mx, suf[1 - k][j] + pref[k][j])\n",
    "                ans -= mx\n",
    "            res = min(res, ans)\n",
    "            pref[i % 2][ord(s[i]) - ord('a')] += 1\n",
    "            #在遍历过程中进行pref的初始化\n",
    "        print(res)"
   ]
  },
  {
   "cell_type": "code",
   "execution_count": null,
   "id": "10270b7d",
   "metadata": {},
   "outputs": [],
   "source": [
    "t = int(input())\n",
    "for _ in range(t):\n",
    "    n = int(input())\n",
    "    s = input()\n",
    "    res = len(s)\n",
    "    if n % 2 == 0:\n",
    "        v = [[0] * 26 for _ in range(2)]\n",
    "        for i in range(n):\n",
    "            v[i % 2][ord(s[i]) - ord('a')] += 1\n",
    "        for i in range(2):\n",
    "            mx = max(v[i])\n",
    "            res -= mx\n",
    "        print(res)\n",
    "    else:\n",
    "        pref = [[0] * 26 for _ in range(2)]#前缀字符频率\n",
    "        suf = [[0] * 26 for _ in range(2)]#后缀字符频率\n",
    "        for i in range(n - 1, -1, -1):#初始化\n",
    "            suf[i % 2][ord(s[i]) - ord('a')] += 1\n",
    "        for i in range(n):\n",
    "            suf[i % 2][ord(s[i]) - ord('a')] -= 1\n",
    "            ans = n\n",
    "            for k in range(2):\n",
    "                mx = 0\n",
    "                for j in range(26):\n",
    "                    mx = max(mx, suf[1 - k][j] + pref[k][j])\n",
    "                    #suf[1 - k][j] + pref[k][j]\n",
    "                ans -= mx\n",
    "            res = min(res, ans)\n",
    "            pref[i % 2][ord(s[i]) - ord('a')] += 1\n",
    "        print(res)"
   ]
  },
  {
   "cell_type": "code",
   "execution_count": null,
   "id": "047fa2db",
   "metadata": {},
   "outputs": [
    {
     "name": "stdout",
     "output_type": "stream",
     "text": [
      "7.0\n"
     ]
    },
    {
     "ename": "ValueError",
     "evalue": "invalid literal for int() with base 10: ''",
     "output_type": "error",
     "traceback": [
      "\u001b[1;31m---------------------------------------------------------------------------\u001b[0m",
      "\u001b[1;31mValueError\u001b[0m                                Traceback (most recent call last)",
      "Cell \u001b[1;32mIn[9], line 3\u001b[0m\n\u001b[0;32m      1\u001b[0m N\u001b[38;5;241m=\u001b[39m\u001b[38;5;28mint\u001b[39m(\u001b[38;5;28minput\u001b[39m())\n\u001b[0;32m      2\u001b[0m \u001b[38;5;28;01mfor\u001b[39;00m i \u001b[38;5;129;01min\u001b[39;00m \u001b[38;5;28mrange\u001b[39m(N):\n\u001b[1;32m----> 3\u001b[0m     n\u001b[38;5;241m=\u001b[39m\u001b[38;5;28;43mint\u001b[39;49m\u001b[43m(\u001b[49m\u001b[38;5;28;43minput\u001b[39;49m\u001b[43m(\u001b[49m\u001b[43m)\u001b[49m\u001b[43m)\u001b[49m\n\u001b[0;32m      4\u001b[0m     s\u001b[38;5;241m=\u001b[39m\u001b[38;5;28mlist\u001b[39m(\u001b[38;5;28mmap\u001b[39m(\u001b[38;5;28mint\u001b[39m,\u001b[38;5;28minput\u001b[39m()\u001b[38;5;241m.\u001b[39msplit()))\n\u001b[0;32m      5\u001b[0m     \u001b[38;5;28msum\u001b[39m\u001b[38;5;241m=\u001b[39m\u001b[38;5;241m0\u001b[39m\n",
      "\u001b[1;31mValueError\u001b[0m: invalid literal for int() with base 10: ''"
     ]
    }
   ],
   "source": [
    "N=int(input())\n",
    "for i in range(N):\n",
    "    n=int(input())\n",
    "    s=list(map(int,input().split()))\n",
    "    sum=0\n",
    "    for j in range(n):\n",
    "        for k in range(j+1,n):\n",
    "            sum+=int(s[j])*int(s[k])\n",
    "    ans=int((sum/(n*(n-1)/2))%(1e9+7))\n",
    "    print(ans)\n",
    "    "
   ]
  },
  {
   "cell_type": "code",
   "execution_count": null,
   "id": "9c475372",
   "metadata": {},
   "outputs": [],
   "source": []
  }
 ],
 "metadata": {
  "kernelspec": {
   "display_name": "Python 3",
   "language": "python",
   "name": "python3"
  },
  "language_info": {
   "codemirror_mode": {
    "name": "ipython",
    "version": 3
   },
   "file_extension": ".py",
   "mimetype": "text/x-python",
   "name": "python",
   "nbconvert_exporter": "python",
   "pygments_lexer": "ipython3",
   "version": "3.10.10"
  }
 },
 "nbformat": 4,
 "nbformat_minor": 5
}
