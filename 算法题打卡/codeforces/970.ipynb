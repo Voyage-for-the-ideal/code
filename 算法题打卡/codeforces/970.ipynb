{
 "cells": [
  {
   "cell_type": "code",
   "execution_count": null,
   "id": "3c3c177d",
   "metadata": {},
   "outputs": [
    {
     "name": "stdout",
     "output_type": "stream",
     "text": [
      "NO\n",
      "NO\n",
      "NO\n"
     ]
    },
    {
     "ename": "ValueError",
     "evalue": "not enough values to unpack (expected 2, got 0)",
     "output_type": "error",
     "traceback": [
      "\u001b[1;31m---------------------------------------------------------------------------\u001b[0m",
      "\u001b[1;31mValueError\u001b[0m                                Traceback (most recent call last)",
      "Cell \u001b[1;32mIn[3], line 3\u001b[0m\n\u001b[0;32m      1\u001b[0m N\u001b[38;5;241m=\u001b[39m\u001b[38;5;28mint\u001b[39m(\u001b[38;5;28minput\u001b[39m())\n\u001b[0;32m      2\u001b[0m \u001b[38;5;28;01mfor\u001b[39;00m i \u001b[38;5;129;01min\u001b[39;00m \u001b[38;5;28mrange\u001b[39m(N):\n\u001b[1;32m----> 3\u001b[0m     a,b\u001b[38;5;241m=\u001b[39m\u001b[38;5;28minput\u001b[39m()\u001b[38;5;241m.\u001b[39msplit()\n\u001b[0;32m      4\u001b[0m     a,b\u001b[38;5;241m=\u001b[39m\u001b[38;5;28mint\u001b[39m(a),\u001b[38;5;28mint\u001b[39m(b)\n\u001b[0;32m      5\u001b[0m     \u001b[38;5;28;01mif\u001b[39;00m a\u001b[38;5;241m%\u001b[39m\u001b[38;5;241m2\u001b[39m\u001b[38;5;241m==\u001b[39m\u001b[38;5;241m1\u001b[39m \u001b[38;5;129;01mor\u001b[39;00m (a\u001b[38;5;241m==\u001b[39m\u001b[38;5;241m0\u001b[39m \u001b[38;5;129;01mand\u001b[39;00m b\u001b[38;5;241m%\u001b[39m\u001b[38;5;241m2\u001b[39m\u001b[38;5;241m==\u001b[39m\u001b[38;5;241m1\u001b[39m):\u001b[38;5;28mprint\u001b[39m(\u001b[38;5;124m\"\u001b[39m\u001b[38;5;124mNO\u001b[39m\u001b[38;5;124m\"\u001b[39m)\n",
      "\u001b[1;31mValueError\u001b[0m: not enough values to unpack (expected 2, got 0)"
     ]
    }
   ],
   "source": [
    "N=int(input())\n",
    "for i in range(N):\n",
    "    a,b=input().split()\n",
    "    a,b=int(a),int(b)\n",
    "    if a%2==1 or (a==0 and b%2==1):print(\"NO\")\n",
    "    else: print(\"YES\")"
   ]
  },
  {
   "cell_type": "code",
   "execution_count": null,
   "id": "2c8c18b9",
   "metadata": {},
   "outputs": [
    {
     "name": "stdout",
     "output_type": "stream",
     "text": [
      "NO\n",
      "YES\n",
      "YES\n",
      "NO\n",
      "NO\n"
     ]
    }
   ],
   "source": [
    "N=int(input())\n",
    "n=0\n",
    "for i in range(N):\n",
    "    n=int(input())\n",
    "    s=list(input())\n",
    "    n_sqrt=n**0.5\n",
    "    if int(n_sqrt)-n_sqrt!=0:\n",
    "        print(\"NO\")\n",
    "    else:\n",
    "        num_1=0\n",
    "        num_0=0\n",
    "        for i in range(n):\n",
    "            if s[i]==\"1\":\n",
    "                num_1+=1\n",
    "            else:\n",
    "                num_0+=1\n",
    "        if num_1==n_sqrt*4-4:\n",
    "            print(\"Yes\")\n",
    "        else:\n",
    "            print(\"No\")"
   ]
  },
  {
   "cell_type": "code",
   "execution_count": null,
   "id": "a71eac4b",
   "metadata": {},
   "outputs": [],
   "source": [
    "N=int(input())\n",
    "for i in range(N):\n",
    "    l,r=map(int,input().split())\n",
    "    l,r=1,r-l+1\n",
    "    num=1\n",
    "    while (num**2-num+2)/2<=r:\n",
    "        num+=1\n",
    "    if (num**2-num+2)/2>r:\n",
    "        num-=1\n",
    "    print(num)"
   ]
  },
  {
   "cell_type": "code",
   "execution_count": null,
   "id": "047fa2db",
   "metadata": {},
   "outputs": [
    {
     "name": "stdout",
     "output_type": "stream",
     "text": [
      "7.0\n"
     ]
    },
    {
     "ename": "ValueError",
     "evalue": "invalid literal for int() with base 10: ''",
     "output_type": "error",
     "traceback": [
      "\u001b[1;31m---------------------------------------------------------------------------\u001b[0m",
      "\u001b[1;31mValueError\u001b[0m                                Traceback (most recent call last)",
      "Cell \u001b[1;32mIn[9], line 3\u001b[0m\n\u001b[0;32m      1\u001b[0m N\u001b[38;5;241m=\u001b[39m\u001b[38;5;28mint\u001b[39m(\u001b[38;5;28minput\u001b[39m())\n\u001b[0;32m      2\u001b[0m \u001b[38;5;28;01mfor\u001b[39;00m i \u001b[38;5;129;01min\u001b[39;00m \u001b[38;5;28mrange\u001b[39m(N):\n\u001b[1;32m----> 3\u001b[0m     n\u001b[38;5;241m=\u001b[39m\u001b[38;5;28;43mint\u001b[39;49m\u001b[43m(\u001b[49m\u001b[38;5;28;43minput\u001b[39;49m\u001b[43m(\u001b[49m\u001b[43m)\u001b[49m\u001b[43m)\u001b[49m\n\u001b[0;32m      4\u001b[0m     s\u001b[38;5;241m=\u001b[39m\u001b[38;5;28mlist\u001b[39m(\u001b[38;5;28mmap\u001b[39m(\u001b[38;5;28mint\u001b[39m,\u001b[38;5;28minput\u001b[39m()\u001b[38;5;241m.\u001b[39msplit()))\n\u001b[0;32m      5\u001b[0m     \u001b[38;5;28msum\u001b[39m\u001b[38;5;241m=\u001b[39m\u001b[38;5;241m0\u001b[39m\n",
      "\u001b[1;31mValueError\u001b[0m: invalid literal for int() with base 10: ''"
     ]
    }
   ],
   "source": [
    "N=int(input())\n",
    "for i in range(N):\n",
    "    n=int(input())\n",
    "    s=list(map(int,input().split()))\n",
    "    sum=0\n",
    "    for j in range(n):\n",
    "        for k in range(j+1,n):\n",
    "            sum+=int(s[j])*int(s[k])\n",
    "    ans=int((sum/(n*(n-1)/2))%(1e9+7))\n",
    "    print(ans)\n",
    "    "
   ]
  }
 ],
 "metadata": {
  "kernelspec": {
   "display_name": "Python 3",
   "language": "python",
   "name": "python3"
  },
  "language_info": {
   "codemirror_mode": {
    "name": "ipython",
    "version": 3
   },
   "file_extension": ".py",
   "mimetype": "text/x-python",
   "name": "python",
   "nbconvert_exporter": "python",
   "pygments_lexer": "ipython3",
   "version": "3.10.10"
  }
 },
 "nbformat": 4,
 "nbformat_minor": 5
}
