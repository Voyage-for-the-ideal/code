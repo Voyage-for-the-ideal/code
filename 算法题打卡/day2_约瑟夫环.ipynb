{
 "cells": [
  {
   "cell_type": "code",
   "execution_count": null,
   "metadata": {},
   "outputs": [],
   "source": [
    "def josephus(n, k):\n",
    "    if n == 1:\n",
    "        return 0\n",
    "    if k == 1:\n",
    "        return n - 1\n",
    "    if k > n:\n",
    "        return (josephus(n - 1, k) + k) % n\n",
    "    else:\n",
    "        d = n // k\n",
    "        res = josephus(n - d, k)\n",
    "        res -= n % k\n",
    "        if res < 0:\n",
    "            res += n\n",
    "        else:\n",
    "            res += res // (k - 1)\n",
    "        return res\n",
    "\n",
    "n, m = map(int, input().split())\n",
    "print(josephus(n, m) + 1)"
   ]
  },
  {
   "cell_type": "markdown",
   "metadata": {},
   "source": [
    "还没看，之后看看结论"
   ]
  }
 ],
 "metadata": {
  "language_info": {
   "name": "python"
  }
 },
 "nbformat": 4,
 "nbformat_minor": 2
}
