{
 "cells": [
  {
   "cell_type": "code",
   "execution_count": null,
   "metadata": {},
   "outputs": [],
   "source": [
    "l,r=map(int,input().split)\n",
    "result=0\n",
    "for x in range(l,r+1):\n",
    "    if x%4==2:\n",
    "        True\n",
    "    else:\n",
    "        result=result+1\n",
    "print(result)\n"
   ]
  },
  {
   "cell_type": "markdown",
   "metadata": {},
   "source": [
    "1. 遍历作法"
   ]
  },
  {
   "cell_type": "code",
   "execution_count": null,
   "metadata": {},
   "outputs": [],
   "source": [
    "def num(x):\n",
    "    if x%4==2:\n",
    "        y=(x+2)//4\n",
    "        return x-y\n",
    "    else:\n",
    "        return x-x//4\n",
    "\n",
    "l,r=map(int,input().split())\n",
    "result=num(r)-num(l-1)\n",
    "print(result)\n"
   ]
  },
  {
   "cell_type": "markdown",
   "metadata": {},
   "source": [
    "2. 直接数（比1更快）"
   ]
  }
 ],
 "metadata": {
  "language_info": {
   "name": "python"
  }
 },
 "nbformat": 4,
 "nbformat_minor": 2
}
