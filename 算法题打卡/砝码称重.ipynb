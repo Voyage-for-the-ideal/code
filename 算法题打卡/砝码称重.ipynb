{
 "cells": [
  {
   "cell_type": "code",
   "execution_count": null,
   "id": "e389f7be",
   "metadata": {},
   "outputs": [],
   "source": [
    "a1,a2,a3,a5,a10,a20=map(int,input().split())\n",
    "num=set()\n",
    "for x1 in range(a1+1):\n",
    "    for x2 in range(a2+1):\n",
    "        for x3 in range(a3+1):\n",
    "            for x5 in range(a5+1):\n",
    "                for x10 in range(a10+1):\n",
    "                    for x20 in range(a20+1):\n",
    "                        num.add(x1+x2*2+x3*3+x5*5+x10*10+x20*20)\n",
    "num.remove(0)\n",
    "print(f\"Total={len(num)}\")"
   ]
  },
  {
   "cell_type": "markdown",
   "id": "6173c903",
   "metadata": {},
   "source": [
    "暴力，不太优雅"
   ]
  },
  {
   "cell_type": "code",
   "execution_count": null,
   "id": "5f787ad3",
   "metadata": {},
   "outputs": [],
   "source": [
    "# 读取输入的六个整数，分别对应1g、2g、3g、5g、10g、20g砝码的数量\n",
    "n1, n2, n3, n5, n10, n20 = map(int, input().split())\n",
    "\n",
    "# 砝码的重量和对应的数量\n",
    "weights = [1, 2, 3, 5, 10, 20]\n",
    "counts = [n1, n2, n3, n5, n10, n20]\n",
    "\n",
    "max_num=0\n",
    "for i in range(6):\n",
    "    w = weights[i]\n",
    "    m = counts[i]\n",
    "    max_num+=w*m\n",
    "# 初始化动态规划数组，dp[i] 表示是否可以称出重量i\n",
    "dp = [False] * (max_num+1)\n",
    "dp[0] = True  # 初始时可以称出0g\n",
    "# 遍历每个砝码及其数量\n",
    "for i in range(6):\n",
    "    w = weights[i]\n",
    "    m = counts[i]\n",
    "    # 从大到小遍历当前可以称出的重量，避免重复计算\n",
    "    for i_weight in range(max_num, -1, -1):\n",
    "        if dp[i_weight]:\n",
    "            # 尝试添加1到m个当前砝码\n",
    "            for k in range(1, m + 1):\n",
    "                new_weight = i_weight + k * w\n",
    "                if new_weight >max_num:\n",
    "                    break\n",
    "                if not dp[new_weight]:\n",
    "                    dp[new_weight] = True\n",
    "\n",
    "# 统计可以称出的不同重量的个数（排除0g）\n",
    "total = sum(dp) - 1\n",
    "print(f\"Total={total}\")"
   ]
  },
  {
   "cell_type": "markdown",
   "id": "871739b3",
   "metadata": {},
   "source": [
    "比暴力好一点，但本质上还是遍历，只是改成了从大到小遍历，这样就可以利用"
   ]
  }
 ],
 "metadata": {
  "kernelspec": {
   "display_name": "Python 3",
   "language": "python",
   "name": "python3"
  },
  "language_info": {
   "name": "python",
   "version": "3.10.10"
  }
 },
 "nbformat": 4,
 "nbformat_minor": 5
}
