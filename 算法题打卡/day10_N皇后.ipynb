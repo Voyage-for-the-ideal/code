{
 "cells": [
  {
   "cell_type": "code",
   "execution_count": 3,
   "id": "ac24e9db",
   "metadata": {},
   "outputs": [
    {
     "ename": "ValueError",
     "evalue": "not enough values to unpack (expected 2, got 0)",
     "output_type": "error",
     "traceback": [
      "\u001b[1;31m---------------------------------------------------------------------------\u001b[0m",
      "\u001b[1;31mValueError\u001b[0m                                Traceback (most recent call last)",
      "Cell \u001b[1;32mIn[3], line 4\u001b[0m\n\u001b[0;32m      2\u001b[0m array \u001b[38;5;241m=\u001b[39m [[\u001b[38;5;241m1\u001b[39m \u001b[38;5;28;01mfor\u001b[39;00m _ \u001b[38;5;129;01min\u001b[39;00m \u001b[38;5;28mrange\u001b[39m(m)] \u001b[38;5;28;01mfor\u001b[39;00m _ \u001b[38;5;129;01min\u001b[39;00m \u001b[38;5;28mrange\u001b[39m(n)]\n\u001b[0;32m      3\u001b[0m \u001b[38;5;28;01mfor\u001b[39;00m i \u001b[38;5;129;01min\u001b[39;00m \u001b[38;5;28mrange\u001b[39m(k):\n\u001b[1;32m----> 4\u001b[0m     x,y\u001b[38;5;241m=\u001b[39m\u001b[38;5;28mmap\u001b[39m(\u001b[38;5;28mint\u001b[39m,\u001b[38;5;28minput\u001b[39m()\u001b[38;5;241m.\u001b[39msplit())\n\u001b[0;32m      5\u001b[0m     \u001b[38;5;28;01mfor\u001b[39;00m a \u001b[38;5;129;01min\u001b[39;00m \u001b[38;5;28mrange\u001b[39m(m):\n\u001b[0;32m      6\u001b[0m         array[x\u001b[38;5;241m-\u001b[39m\u001b[38;5;241m1\u001b[39m][a]\u001b[38;5;241m=\u001b[39m\u001b[38;5;241m0\u001b[39m\n",
      "\u001b[1;31mValueError\u001b[0m: not enough values to unpack (expected 2, got 0)"
     ]
    }
   ],
   "source": [
    "n,m,k=map(int,input().split())\n",
    "array = [[1 for _ in range(m)] for _ in range(n)]\n",
    "for i in range(k):\n",
    "    x,y=map(int,input().split())\n",
    "    for a in range(m):\n",
    "        array[x-1][a]=0\n",
    "        \n",
    "    for b in range(n):\n",
    "        array[b][y-1]=0\n",
    "        \n",
    "    x_curr=x-1\n",
    "    y_curr=y-1\n",
    "    while True:\n",
    "        x_curr=x_curr+1\n",
    "        y_curr=y_curr-1\n",
    "        if x_curr>(n-1) or y_curr<0:\n",
    "            break\n",
    "        array[x_curr][y_curr]=0\n",
    "    x_curr=x-1\n",
    "    y_curr=y-1\n",
    "    while True:\n",
    "        x_curr=x_curr-1\n",
    "        y_curr=y_curr+1\n",
    "        if y_curr>(m-1) or x_curr<0:\n",
    "            break\n",
    "        array[x_curr][y_curr]=0\n",
    "    x_curr=x-1\n",
    "    y_curr=y-1\n",
    "    while True:\n",
    "        x_curr=x_curr+1\n",
    "        y_curr=y_curr+1\n",
    "        if x_curr>(n-1) or y_curr>m-1:\n",
    "            break\n",
    "        array[x_curr][y_curr]=0\n",
    "    x_curr=x-1\n",
    "    y_curr=y-1\n",
    "    while True:\n",
    "        x_curr=x_curr-1\n",
    "        y_curr=y_curr-1\n",
    "        if x_curr<0 or y_curr<0:\n",
    "            break\n",
    "        array[x_curr][y_curr]=0\n",
    "        \n",
    "result=0\n",
    "for i in range(n):\n",
    "    for j in range(m):\n",
    "        if array[i][j]==1:\n",
    "            result+=1\n",
    "print(result)\n"
   ]
  },
  {
   "cell_type": "markdown",
   "id": "334bd26e",
   "metadata": {},
   "source": [
    "直接暴力遍历每个被皇后覆盖的格子"
   ]
  },
  {
   "cell_type": "code",
   "execution_count": null,
   "id": "9f29113f",
   "metadata": {},
   "outputs": [],
   "source": [
    "n, m, K = map(int, input().split())\n",
    "rows = set()\n",
    "cols = set()\n",
    "diag1 = set()  # x - y\n",
    "diag2 = set()  # x + y\n",
    "\n",
    "for _ in range(K):\n",
    "    x, y = map(int, input().split())\n",
    "    rows.add(x)\n",
    "    cols.add(y)\n",
    "    diag1.add(x - y)\n",
    "    diag2.add(x + y)\n",
    "\n",
    "count = 0\n",
    "for i in range(1, n+1):\n",
    "    for j in range(1, m+1):\n",
    "        if (i not in rows) and (j not in cols) and ((i - j) not in diag1) and ((i + j) not in diag2):\n",
    "            count += 1\n",
    "\n",
    "print(count)"
   ]
  },
  {
   "cell_type": "markdown",
   "id": "dec1c4dc",
   "metadata": {},
   "source": [
    "仍然是遍历，但比上一个方法简单，这次直接检查每个格子是否会被皇后覆盖即可(检查是否和皇后处在同一列/行/对角线)"
   ]
  }
 ],
 "metadata": {
  "kernelspec": {
   "display_name": "Python 3",
   "language": "python",
   "name": "python3"
  },
  "language_info": {
   "codemirror_mode": {
    "name": "ipython",
    "version": 3
   },
   "file_extension": ".py",
   "mimetype": "text/x-python",
   "name": "python",
   "nbconvert_exporter": "python",
   "pygments_lexer": "ipython3",
   "version": "3.10.10"
  }
 },
 "nbformat": 4,
 "nbformat_minor": 5
}
