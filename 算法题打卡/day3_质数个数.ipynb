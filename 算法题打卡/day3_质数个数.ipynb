{
 "cells": [
  {
   "cell_type": "code",
   "execution_count": null,
   "metadata": {},
   "outputs": [],
   "source": [
    "def count_primes(n):\n",
    "    if n < 2:\n",
    "        return 0\n",
    "    is_prime = [True] * (n + 1)\n",
    "    is_prime[0] = is_prime[1] = False\n",
    "    for i in range(2, int(n ** 0.5) + 1):\n",
    "        if is_prime[i]:\n",
    "            is_prime[i*i : n+1 : i] = [False] * len(is_prime[i*i : n+1 : i])\n",
    "    return sum(is_prime)\n",
    "x,y=map(int, input().split())\n",
    "result=count_primes(y)-count_primes(x-1)\n",
    "print(result)"
   ]
  },
  {
   "cell_type": "markdown",
   "metadata": {},
   "source": [
    "`is_prime[i*i : n+1 : i] = [False] * len(is_prime[i*i : n+1 : i])`\n",
    "切片操作，用于筛选数组中从 i*i 开始、每隔 i 步长取一个元素的所有位置\n",
    "`:n+1`表示上界为n（开区间）"
   ]
  },
  {
   "cell_type": "code",
   "execution_count": null,
   "metadata": {},
   "outputs": [],
   "source": [
    "def count_primes_in_range(x, y):\n",
    "    if y < 2:\n",
    "        return 0\n",
    "    # 初始化筛法数组和质数列表\n",
    "    is_prime = [True] * (y + 1)\n",
    "    is_prime[0], is_prime[1] = False, False  # 0和1不是质数\n",
    "    primes = []  # 存储已知质数\n",
    "    # 线性筛法（欧拉筛）\n",
    "    for i in range(2, y + 1):\n",
    "        if is_prime[i]:\n",
    "            primes.append(i)  # i是质数，加入列表\n",
    "        # 标记i与质数的乘积为非质数\n",
    "        for p in primes:\n",
    "            composite = i * p\n",
    "            if composite > y:\n",
    "                break\n",
    "            is_prime[composite] = False\n",
    "            if i % p == 0:  # 确保每个合数只被最小质因数标记\n",
    "                break\n",
    "    # 统计区间[x, y]内的质数数量\n",
    "    return sum(is_prime[x:y+1])\n",
    "\n",
    "# 读取输入并输出结果\n",
    "x, y = map(int, input().split())\n",
    "print(count_primes_in_range(x, y))"
   ]
  },
  {
   "cell_type": "markdown",
   "metadata": {},
   "source": [
    "欧拉筛：在埃shi筛的基础上避免了一个合数被多个质数筛去，减少了时间复杂度"
   ]
  },
  {
   "cell_type": "code",
   "execution_count": null,
   "metadata": {},
   "outputs": [],
   "source": [
    "def is_prime(x):\n",
    "    if x==1:\n",
    "        return False\n",
    "    for i in range(2,int(x**0.5)+1):\n",
    "        if x%i==0:\n",
    "            return False\n",
    "    return True\n",
    "ans=0\n",
    "n,m=map(int,input().split())\n",
    "for i in range(n,m+1):\n",
    "    if is_prime(i)==True:\n",
    "        ans+=1\n",
    "print(ans)"
   ]
  },
  {
   "cell_type": "markdown",
   "metadata": {},
   "source": [
    "暴力筛"
   ]
  }
 ],
 "metadata": {
  "language_info": {
   "name": "python"
  }
 },
 "nbformat": 4,
 "nbformat_minor": 2
}
