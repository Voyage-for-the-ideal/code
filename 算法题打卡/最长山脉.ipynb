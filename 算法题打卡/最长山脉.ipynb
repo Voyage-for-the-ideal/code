{
 "cells": [
  {
   "cell_type": "code",
   "execution_count": null,
   "id": "2f567c39",
   "metadata": {},
   "outputs": [
    {
     "name": "stdout",
     "output_type": "stream",
     "text": [
      "3\n"
     ]
    }
   ],
   "source": [
    "user_input = input()\n",
    "my_list = eval(user_input)\n",
    "n=len(my_list)\n",
    "up=[1]*n\n",
    "down=[1]*n\n",
    "for i in range(1,n):\n",
    "    if my_list[i-1]<my_list[i]:\n",
    "        up[i]+=up[i-1]\n",
    "for i in range(n-1):\n",
    "    if my_list[n-i-2]>my_list[n-i-1]:\n",
    "        down[n-i-2]+=down[n-i-1]\n",
    "sum_=[0]*n\n",
    "for i in range(n):\n",
    "    if up[i]>1 and down[i]>1:\n",
    "        #单增的和单减的都大于1才算\n",
    "        sum_[i]=up[i]+down[i]-1\n",
    "result=max(sum_)\n",
    "if result==2:\n",
    "    print(\"0\")\n",
    "else:    \n",
    "    print(max(sum_))"
   ]
  }
 ],
 "metadata": {
  "kernelspec": {
   "display_name": "Python 3",
   "language": "python",
   "name": "python3"
  },
  "language_info": {
   "codemirror_mode": {
    "name": "ipython",
    "version": 3
   },
   "file_extension": ".py",
   "mimetype": "text/x-python",
   "name": "python",
   "nbconvert_exporter": "python",
   "pygments_lexer": "ipython3",
   "version": "3.10.10"
  }
 },
 "nbformat": 4,
 "nbformat_minor": 5
}
