{
 "cells": [
  {
   "cell_type": "markdown",
   "id": "b31b6b1f",
   "metadata": {},
   "source": [
    "给定环形数组，判断其中是否存在循环（跳棋），而且不能往回跳"
   ]
  },
  {
   "cell_type": "code",
   "execution_count": null,
   "id": "387eca42",
   "metadata": {},
   "outputs": [],
   "source": [
    "def judge_circulate(list_in):\n",
    "    n=len(list_in)\n",
    "    direction=1\n",
    "    for i in range(n):\n",
    "        if list_in[i]==list_in[i+list_in[i]]:\n",
    "            continue\n",
    "        x=0\n",
    "        if list_in[i]>0:\n",
    "            direction=1\n",
    "        else:\n",
    "            direction=-1\n",
    "        \n",
    "        while(x<n):\n",
    "            if (list_in[(i+x)%n]*direction)<0:\n",
    "                break\n",
    "            else:\n",
    "                x+=list_in[(i+x)%n]\n",
    "        if x==n :\n",
    "            return True\n",
    "    return False\n",
    "\n",
    "elements = input()[1:-1].split(',')\n",
    "# 将每个元素转换为整数\n",
    "list_in = list(map(int, elements))\n",
    "if judge_circulate(list_in):\n",
    "    print(\"true\")\n",
    "else:print(\"false\")"
   ]
  },
  {
   "cell_type": "code",
   "execution_count": null,
   "id": "fe5b71ec",
   "metadata": {},
   "outputs": [],
   "source": [
    "def circularArrayLoop(nums):\n",
    "    n = len(nums)\n",
    "    if n < 2:\n",
    "        return False\n",
    "    visited = [[False, False] for _ in range(n)]  # visited[i][0] for negative, visited[i][1] for positive\n",
    "\n",
    "    for i in range(n):\n",
    "        direction = 1 if nums[i] > 0 else 0\n",
    "        if visited[i][direction]:\n",
    "            continue\n",
    "\n",
    "        current = i\n",
    "        path = []\n",
    "        while True:\n",
    "            if visited[current][direction]:\n",
    "                break\n",
    "            visited[current][direction] = True\n",
    "            path.append(current)\n",
    "            next_index = (current + nums[current]) % n\n",
    "            next_dir = 0 if nums[next_index] < 0 else 1\n",
    "            if next_dir != direction:\n",
    "                break\n",
    "            if next_index in path:\n",
    "                pos = path.index(next_index)\n",
    "                if len(path) - pos > 1:\n",
    "                    return True\n",
    "                else:\n",
    "                    break\n",
    "            if len(path) >= n:\n",
    "                break\n",
    "            current = next_index\n",
    "\n",
    "    return False\n",
    "\n",
    "elements = input()[1:-1].split(',')\n",
    "# 将每个元素转换为整数\n",
    "nums = list(map(int, elements))\n",
    "if circularArrayLoop(nums):\n",
    "    print(\"true\")\n",
    "else:print(\"false\")"
   ]
  }
 ],
 "metadata": {
  "kernelspec": {
   "display_name": "Python 3",
   "language": "python",
   "name": "python3"
  },
  "language_info": {
   "name": "python",
   "version": "3.10.10"
  }
 },
 "nbformat": 4,
 "nbformat_minor": 5
}
