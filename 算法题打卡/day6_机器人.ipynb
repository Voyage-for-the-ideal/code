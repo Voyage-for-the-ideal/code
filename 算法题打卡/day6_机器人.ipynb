{
 "cells": [
  {
   "cell_type": "code",
   "execution_count": 1,
   "metadata": {},
   "outputs": [],
   "source": [
    "def calculate_final_position(instructions):\n",
    "    x, y = 0, 0\n",
    "    direction = 0  # 初始方向：北\n",
    "  \n",
    "    for cmd in instructions:\n",
    "        if cmd == 2:\n",
    "            # 向前移动\n",
    "            if direction == 0:\n",
    "                y += 1\n",
    "            elif direction == 1:\n",
    "                x += 1\n",
    "            elif direction == 2:\n",
    "                y -= 1\n",
    "            else:  # direction == 3\n",
    "                x -= 1\n",
    "        else:\n",
    "            # 转向\n",
    "            if cmd == -1:\n",
    "                direction = (direction - 1) % 4\n",
    "            elif cmd == 1:\n",
    "                direction = (direction + 1) % 4\n",
    "            elif cmd == 0:\n",
    "                direction = (direction + 2) % 4\n",
    "  \n",
    "    return (x, y)"
   ]
  },
  {
   "cell_type": "markdown",
   "metadata": {},
   "source": [
    "将换向转换为模4的余数，0123代表四个方向，通过+-1来实现。"
   ]
  },
  {
   "cell_type": "code",
   "execution_count": null,
   "metadata": {},
   "outputs": [
    {
     "name": "stdout",
     "output_type": "stream",
     "text": [
      "(-1, 2)\n"
     ]
    }
   ],
   "source": [
    "# 读取用户输入并转换为指令序列\n",
    "input_str = input().strip()\n",
    "instructions = list(map(int, input_str.split()))\n",
    "\n",
    "# 调用函数计算最终位置\n",
    "result = calculate_final_position(instructions)\n",
    "print(str(result[0])+\" \"+str(result[1]))"
   ]
  },
  {
   "cell_type": "markdown",
   "metadata": {},
   "source": [
    "1. 如果以空格作为间断，只需要`.split()`而不能是`.split(\"\")`,`split()`不能以空白作为间断\n",
    "2. 不能直接将input_str作为输入，因为此时他是str类型，需要用map转换属性。\n",
    "3. strip()移除字符串首尾的指定字符(不过输入应该可以直接用`input().split()`代替？)\n"
   ]
  }
 ],
 "metadata": {
  "kernelspec": {
   "display_name": "Python 3",
   "language": "python",
   "name": "python3"
  },
  "language_info": {
   "codemirror_mode": {
    "name": "ipython",
    "version": 3
   },
   "file_extension": ".py",
   "mimetype": "text/x-python",
   "name": "python",
   "nbconvert_exporter": "python",
   "pygments_lexer": "ipython3",
   "version": "3.10.10"
  }
 },
 "nbformat": 4,
 "nbformat_minor": 2
}
