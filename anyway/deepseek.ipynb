{
 "cells": [
  {
   "cell_type": "code",
   "execution_count": 2,
   "id": "33d6569e",
   "metadata": {},
   "outputs": [],
   "source": [
    "from key import API_KEY"
   ]
  },
  {
   "cell_type": "code",
   "execution_count": 3,
   "id": "48eef486",
   "metadata": {},
   "outputs": [
    {
     "name": "stdout",
     "output_type": "stream",
     "text": [
      "SyncPage[Model](data=[Model(id='deepseek-chat', created=None, object='model', owned_by='deepseek'), Model(id='deepseek-reasoner', created=None, object='model', owned_by='deepseek')], object='list')\n"
     ]
    }
   ],
   "source": [
    "from openai import OpenAI\n",
    "\n",
    "# for backward compatibility, you can still use `https://api.deepseek.com/v1` as `base_url`.\n",
    "client = OpenAI(api_key=API_KEY, base_url=\"https://api.deepseek.com\")\n",
    "print(client.models.list())\n",
    "\n",
    "\n"
   ]
  },
  {
   "cell_type": "markdown",
   "id": "87ed05e2",
   "metadata": {},
   "source": [
    "|场景|温度|\n",
    "|----|---|\n",
    "|代码生成/数学解题|\t0.0|\n",
    "|数据抽取/分析|1.0|\n",
    "|通用对话|1.3|\n",
    "|翻译|1.3|\n",
    "|创意类写作/诗歌创作|1.5|"
   ]
  },
  {
   "cell_type": "markdown",
   "id": "5a855e82",
   "metadata": {},
   "source": []
  }
 ],
 "metadata": {
  "kernelspec": {
   "display_name": "Python 3",
   "language": "python",
   "name": "python3"
  },
  "language_info": {
   "codemirror_mode": {
    "name": "ipython",
    "version": 3
   },
   "file_extension": ".py",
   "mimetype": "text/x-python",
   "name": "python",
   "nbconvert_exporter": "python",
   "pygments_lexer": "ipython3",
   "version": "3.10.10"
  }
 },
 "nbformat": 4,
 "nbformat_minor": 5
}
